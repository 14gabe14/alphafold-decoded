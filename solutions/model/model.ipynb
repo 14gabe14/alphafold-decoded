{
 "cells": [
  {
   "cell_type": "markdown",
   "metadata": {},
   "source": [
    "## Basic Setup\n",
    "\n",
    "Run the cells below for the basic setup of this notebook."
   ]
  },
  {
   "cell_type": "code",
   "execution_count": 1,
   "metadata": {},
   "outputs": [
    {
     "name": "stdout",
     "output_type": "stream",
     "text": [
      "No colab environment, assuming local setup.\n"
     ]
    }
   ],
   "source": [
    "try:\n",
    "    from google.colab import drive # type: ignore\n",
    "    IN_COLAB = True\n",
    "except:\n",
    "    IN_COLAB = False\n",
    "    print('No colab environment, assuming local setup.')\n",
    "\n",
    "if IN_COLAB:\n",
    "    drive.mount('/content/drive')\n",
    "\n",
    "    # TODO: Enter the foldername in your Drive where you have saved the unzipped\n",
    "    # turorials folder, e.g. 'alphafold-decoded/tutorials'\n",
    "    FOLDERNAME = None\n",
    "    assert FOLDERNAME is not None, \"[!] Enter the foldername.\"\n",
    "\n",
    "    # Now that we've mounted your Drive, this ensures that\n",
    "    # the Python interpreter of the Colab VM can load\n",
    "    # python files from within it.\n",
    "    import sys\n",
    "    sys.path.append('/content/drive/My Drive/{}'.format(FOLDERNAME))\n",
    "    %cd /content/drive/My\\ Drive/$FOLDERNAME\n",
    "    %pip install py3dmol\n",
    "    %pip install modelcif\n",
    "\n",
    "    print('Connected COLAB to Google Drive.')\n",
    "\n",
    "import os\n",
    "    \n",
    "base_folder = 'model'\n",
    "control_folder = f'{base_folder}/control_values'\n",
    "\n",
    "assert os.path.isdir(control_folder), 'Folder \"control_values\" not found, make sure that FOLDERNAME is set correctly.' if IN_COLAB else 'Folder \"control_values\" not found, make sure that your root folder is set correctly.'"
   ]
  },
  {
   "cell_type": "code",
   "execution_count": 2,
   "metadata": {},
   "outputs": [
    {
     "name": "stdout",
     "output_type": "stream",
     "text": [
      "Download Openfold weights...\n",
      "Collecting awscli\n",
      "  Downloading awscli-1.34.10-py3-none-any.whl.metadata (11 kB)\n",
      "Collecting botocore==1.35.10 (from awscli)\n",
      "  Downloading botocore-1.35.10-py3-none-any.whl.metadata (5.7 kB)\n",
      "Collecting docutils<0.17,>=0.10 (from awscli)\n",
      "  Downloading docutils-0.16-py2.py3-none-any.whl.metadata (2.7 kB)\n",
      "Collecting s3transfer<0.11.0,>=0.10.0 (from awscli)\n",
      "  Downloading s3transfer-0.10.2-py3-none-any.whl.metadata (1.7 kB)\n",
      "Requirement already satisfied: PyYAML<6.1,>=3.10 in /Users/kilianmandon/miniconda3/envs/alphafold/lib/python3.9/site-packages (from awscli) (6.0.1)\n",
      "Collecting colorama<0.4.7,>=0.2.5 (from awscli)\n",
      "  Downloading colorama-0.4.6-py2.py3-none-any.whl.metadata (17 kB)\n",
      "Collecting rsa<4.8,>=3.1.2 (from awscli)\n",
      "  Downloading rsa-4.7.2-py3-none-any.whl.metadata (3.6 kB)\n",
      "Collecting jmespath<2.0.0,>=0.7.1 (from botocore==1.35.10->awscli)\n",
      "  Downloading jmespath-1.0.1-py3-none-any.whl.metadata (7.6 kB)\n",
      "Requirement already satisfied: python-dateutil<3.0.0,>=2.1 in /Users/kilianmandon/miniconda3/envs/alphafold/lib/python3.9/site-packages (from botocore==1.35.10->awscli) (2.9.0.post0)\n",
      "Collecting urllib3<1.27,>=1.25.4 (from botocore==1.35.10->awscli)\n",
      "  Downloading urllib3-1.26.20-py2.py3-none-any.whl.metadata (50 kB)\n",
      "Collecting pyasn1>=0.1.3 (from rsa<4.8,>=3.1.2->awscli)\n",
      "  Downloading pyasn1-0.6.0-py2.py3-none-any.whl.metadata (8.3 kB)\n",
      "Requirement already satisfied: six>=1.5 in /Users/kilianmandon/miniconda3/envs/alphafold/lib/python3.9/site-packages (from python-dateutil<3.0.0,>=2.1->botocore==1.35.10->awscli) (1.16.0)\n",
      "Downloading awscli-1.34.10-py3-none-any.whl (4.5 MB)\n",
      "\u001b[2K   \u001b[90m━━━━━━━━━━━━━━━━━━━━━━━━━━━━━━━━━━━━━━━━\u001b[0m \u001b[32m4.5/4.5 MB\u001b[0m \u001b[31m4.3 MB/s\u001b[0m eta \u001b[36m0:00:00\u001b[0ma \u001b[36m0:00:01\u001b[0m\n",
      "\u001b[?25hDownloading botocore-1.35.10-py3-none-any.whl (12.5 MB)\n",
      "\u001b[2K   \u001b[90m━━━━━━━━━━━━━━━━━━━━━━━━━━━━━━━━━━━━━━━━\u001b[0m \u001b[32m12.5/12.5 MB\u001b[0m \u001b[31m4.5 MB/s\u001b[0m eta \u001b[36m0:00:00\u001b[0ma \u001b[36m0:00:01\u001b[0m\n",
      "\u001b[?25hDownloading colorama-0.4.6-py2.py3-none-any.whl (25 kB)\n",
      "Downloading docutils-0.16-py2.py3-none-any.whl (548 kB)\n",
      "\u001b[2K   \u001b[90m━━━━━━━━━━━━━━━━━━━━━━━━━━━━━━━━━━━━━━━━\u001b[0m \u001b[32m548.2/548.2 kB\u001b[0m \u001b[31m4.3 MB/s\u001b[0m eta \u001b[36m0:00:00\u001b[0m\n",
      "\u001b[?25hDownloading rsa-4.7.2-py3-none-any.whl (34 kB)\n",
      "Downloading s3transfer-0.10.2-py3-none-any.whl (82 kB)\n",
      "Downloading jmespath-1.0.1-py3-none-any.whl (20 kB)\n",
      "Downloading pyasn1-0.6.0-py2.py3-none-any.whl (85 kB)\n",
      "Downloading urllib3-1.26.20-py2.py3-none-any.whl (144 kB)\n",
      "Installing collected packages: urllib3, pyasn1, jmespath, docutils, colorama, rsa, botocore, s3transfer, awscli\n",
      "  Attempting uninstall: urllib3\n",
      "    Found existing installation: urllib3 2.2.2\n",
      "    Uninstalling urllib3-2.2.2:\n",
      "      Successfully uninstalled urllib3-2.2.2\n",
      "Successfully installed awscli-1.34.10 botocore-1.35.10 colorama-0.4.6 docutils-0.16 jmespath-1.0.1 pyasn1-0.6.0 rsa-4.7.2 s3transfer-0.10.2 urllib3-1.26.20\n",
      "Note: you may need to restart the kernel to use updated packages.\n",
      "download: s3://openfold/openfold_params/README.txt to model/openfold_params/README.txt\n",
      "download: s3://openfold/openfold_params/LICENSE to model/openfold_params/LICENSE\n",
      "download: s3://openfold/openfold_params/finetuning_2.pt to model/openfold_params/finetuning_2.pt\n",
      "download: s3://openfold/openfold_params/finetuning_4.pt to model/openfold_params/finetuning_4.pt\n",
      "download: s3://openfold/openfold_params/finetuning_5.pt to model/openfold_params/finetuning_5.pt\n",
      "download: s3://openfold/openfold_params/finetuning_3.pt to model/openfold_params/finetuning_3.pt\n",
      "download: s3://openfold/openfold_params/finetuning_no_templ_1.pt to model/openfold_params/finetuning_no_templ_1.pt\n",
      "download: s3://openfold/openfold_params/finetuning_no_templ_2.pt to model/openfold_params/finetuning_no_templ_2.pt\n",
      "download: s3://openfold/openfold_params/finetuning_no_templ_ptm_1.pt to model/openfold_params/finetuning_no_templ_ptm_1.pt\n",
      "download: s3://openfold/openfold_params/initial_training.pt to model/openfold_params/initial_training.pt\n",
      "download: s3://openfold/openfold_params/finetuning_ptm_2.pt to model/openfold_params/finetuning_ptm_2.pt\n",
      "download: s3://openfold/openfold_params/finetuning_ptm_1.pt to model/openfold_params/finetuning_ptm_1.pt\n"
     ]
    }
   ],
   "source": [
    "# Run this to download the Openfold Weights\n",
    "import subprocess\n",
    "\n",
    "if not os.path.isdir('model/openfold_params') or not os.listdir('model/openfold_params'):\n",
    "    print('Download Openfold weights...')\n",
    "    %pip install awscli\n",
    "    subprocess.call(['bash', 'model/download_openfold_params.sh', 'model'])\n",
    "else:\n",
    "    print('Weights folder already exists.')\n"
   ]
  },
  {
   "cell_type": "code",
   "execution_count": 3,
   "metadata": {},
   "outputs": [],
   "source": [
    "%load_ext autoreload\n",
    "%autoreload 2\n",
    "%matplotlib inline"
   ]
  },
  {
   "cell_type": "code",
   "execution_count": 4,
   "metadata": {},
   "outputs": [],
   "source": [
    "from matplotlib import pyplot as plt\n",
    "import torch\n",
    "import math"
   ]
  },
  {
   "cell_type": "code",
   "execution_count": 5,
   "metadata": {},
   "outputs": [
    {
     "data": {
      "text/plain": [
       "<torch.autograd.grad_mode.set_grad_enabled at 0x1063569a0>"
      ]
     },
     "execution_count": 5,
     "metadata": {},
     "output_type": "execute_result"
    }
   ],
   "source": [
    "torch.set_grad_enabled(False)"
   ]
  },
  {
   "cell_type": "markdown",
   "metadata": {},
   "source": [
    "# Model\n",
    "\n",
    "We are ready. All the parts of Alphafold are implemented, and all that's left to do is to stitch them together into the full model. \n",
    "\n",
    "It is described in Algorithm 2 in the paper. Note that we omit the template stack, and we don't do ensembling. Therefore, you can omit the lines 3, 4, 19, 20, and 7-13.\n",
    "\n",
    "Go to `model.py` and implement the initialization and the forward pass. After that, check your code by running the following cell. You might have to fix some datatype missmatches that fell through earlier checks. If they come up, go back to the methods and make sure that any tensors you create in them are of the right dtype (you can grab the dtype from one of the arguments of the method)."
   ]
  },
  {
   "cell_type": "code",
   "execution_count": 6,
   "metadata": {},
   "outputs": [
    {
     "name": "stderr",
     "output_type": "stream",
     "text": [
      "/Users/kilianmandon/iGEM/alphafold-decoded/solutions/model/control_values/model_checks.py:61: FutureWarning: You are using `torch.load` with `weights_only=False` (the current default value), which uses the default pickle module implicitly. It is possible to construct malicious pickle data which will execute arbitrary code during unpickling (See https://github.com/pytorch/pytorch/blob/main/SECURITY.md#untrusted-models for more details). In a future release, the default value for `weights_only` will be flipped to `True`. This limits the functions that could be executed during unpickling. Arbitrary objects will no longer be allowed to be loaded via this mode unless they are explicitly allowlisted by the user via `torch.serialization.add_safe_globals`. We recommend you start setting `weights_only=True` for any use case where you don't have full control of the loaded file. Please open an issue on GitHub for any issues related to this experimental feature.\n",
      "  expected_shapes = torch.load(shapes_path)\n"
     ]
    },
    {
     "name": "stdout",
     "output_type": "stream",
     "text": [
      "Starting iteration 0...\n",
      "Starting iteration 1...\n",
      "Starting iteration 0...\n",
      "Starting iteration 1...\n"
     ]
    },
    {
     "name": "stderr",
     "output_type": "stream",
     "text": [
      "/Users/kilianmandon/iGEM/alphafold-decoded/solutions/model/control_values/model_checks.py:143: FutureWarning: You are using `torch.load` with `weights_only=False` (the current default value), which uses the default pickle module implicitly. It is possible to construct malicious pickle data which will execute arbitrary code during unpickling (See https://github.com/pytorch/pytorch/blob/main/SECURITY.md#untrusted-models for more details). In a future release, the default value for `weights_only` will be flipped to `True`. This limits the functions that could be executed during unpickling. Arbitrary objects will no longer be allowed to be loaded via this mode unless they are explicitly allowlisted by the user via `torch.serialization.add_safe_globals`. We recommend you start setting `weights_only=True` for any use case where you don't have full control of the loaded file. Please open an issue on GitHub for any issues related to this experimental feature.\n",
      "  expected_out = torch.load(out_file_name)\n",
      "/Users/kilianmandon/iGEM/alphafold-decoded/solutions/model/control_values/model_checks.py:148: FutureWarning: You are using `torch.load` with `weights_only=False` (the current default value), which uses the default pickle module implicitly. It is possible to construct malicious pickle data which will execute arbitrary code during unpickling (See https://github.com/pytorch/pytorch/blob/main/SECURITY.md#untrusted-models for more details). In a future release, the default value for `weights_only` will be flipped to `True`. This limits the functions that could be executed during unpickling. Arbitrary objects will no longer be allowed to be loaded via this mode unless they are explicitly allowlisted by the user via `torch.serialization.add_safe_globals`. We recommend you start setting `weights_only=True` for any use case where you don't have full control of the loaded file. Please open an issue on GitHub for any issues related to this experimental feature.\n",
      "  expected_out = torch.load(out_file_name)\n"
     ]
    }
   ],
   "source": [
    "from model.model import Model\n",
    "from model.control_values.model_checks import c_m, c_z, c_e, f_e, tf_dim, c_s, num_blocks_evoformer, num_blocks_extra_msa\n",
    "from model.control_values.model_checks import test_module_shape, test_module_method\n",
    "\n",
    "model = Model(c_m, c_z, c_e, f_e, tf_dim, c_s, num_blocks_extra_msa, num_blocks_evoformer)\n",
    "\n",
    "test_module_shape(model, 'model', control_folder)\n",
    "\n",
    "def test_method(*args):\n",
    "    outputs = model(*args)\n",
    "    return outputs['final_positions'], outputs['position_mask'], outputs['angles'], outputs['frames']\n",
    "\n",
    "\n",
    "test_module_method(model, 'model', 'batch', ('final_positions', 'position_mask', 'angles', 'frames'), control_folder, test_method)"
   ]
  },
  {
   "cell_type": "markdown",
   "metadata": {},
   "source": [
    "## Building the Real Model\n",
    "\n",
    "Our model passed the check for the toy input. Now it's time to load the model in real size, with real weights, and do a real evaluation pass. For this, it's much faster to use the GPU. If you are in Colab, make sure select a GPU under \"Runtime -> Change runtime type\" if you haven't done so before."
   ]
  },
  {
   "cell_type": "code",
   "execution_count": 7,
   "metadata": {},
   "outputs": [
    {
     "name": "stdout",
     "output_type": "stream",
     "text": [
      "No compatible GPU, fallback to CPU.\n"
     ]
    }
   ],
   "source": [
    "if torch.cuda.is_available():\n",
    "    device = 'cuda'\n",
    "    print('Compatible GPU available.')\n",
    "else:\n",
    "    device = 'cpu'\n",
    "    print('No compatible GPU, fallback to CPU.')\n"
   ]
  },
  {
   "cell_type": "markdown",
   "metadata": {},
   "source": [
    "We are using the weights from Openfold for our model, as it is also written in PyTorch. However, we made some tweaks to the data without changing the actual weights (like renaming a few modules, swapping the angles so that they are predicted as (cos(phi), sin(phi)) like it's said in the paper, not (sin(phi), cos(phi))). You can look at the tweaks in `utils.py` in the method `load_openfold_weights`. \n",
    "\n",
    "If you named all your modules according to the descriptions, the following cell should run cleanly and tell you that all keys in the state dictionary matched successfully."
   ]
  },
  {
   "cell_type": "code",
   "execution_count": 8,
   "metadata": {},
   "outputs": [
    {
     "name": "stderr",
     "output_type": "stream",
     "text": [
      "/Users/kilianmandon/iGEM/alphafold-decoded/solutions/model/utils.py:90: FutureWarning: You are using `torch.load` with `weights_only=False` (the current default value), which uses the default pickle module implicitly. It is possible to construct malicious pickle data which will execute arbitrary code during unpickling (See https://github.com/pytorch/pytorch/blob/main/SECURITY.md#untrusted-models for more details). In a future release, the default value for `weights_only` will be flipped to `True`. This limits the functions that could be executed during unpickling. Arbitrary objects will no longer be allowed to be loaded via this mode unless they are explicitly allowlisted by the user via `torch.serialization.add_safe_globals`. We recommend you start setting `weights_only=True` for any use case where you don't have full control of the loaded file. Please open an issue on GitHub for any issues related to this experimental feature.\n",
      "  openfold_weights = torch.load(path, map_location='cpu')\n"
     ]
    },
    {
     "data": {
      "text/plain": [
       "<All keys matched successfully>"
      ]
     },
     "execution_count": 8,
     "metadata": {},
     "output_type": "execute_result"
    }
   ],
   "source": [
    "from model.utils import load_openfold_weights\n",
    "model = Model()\n",
    "openfold_weights = load_openfold_weights('model/openfold_params/finetuning_2.pt')\n",
    "\n",
    "model.load_state_dict(openfold_weights)"
   ]
  },
  {
   "cell_type": "markdown",
   "metadata": {},
   "source": [
    "As the first step in the forward pass, we'll call `create_features_from_a3m` four times in a row, to get four different input batches (different because of the random selection of cluster centers) four the four different cycles. "
   ]
  },
  {
   "cell_type": "code",
   "execution_count": 9,
   "metadata": {},
   "outputs": [],
   "source": [
    "from feature_extraction.feature_extraction import create_features_from_a3m\n",
    "\n",
    "batch = None\n",
    "\n",
    "##########################################################################\n",
    "# TODO: Compute four single batches with create_features_from_a3m.       #\n",
    "#   Then, stack all the tensors in the list to get the complete batch.   #\n",
    "##########################################################################\n",
    "\n",
    "single_cycle_batches = []\n",
    "for i in range(4):\n",
    "    single_cycle_batch = create_features_from_a3m('feature_extraction/alignment_tautomerase.a3m')\n",
    "    single_cycle_batches.append(single_cycle_batch)\n",
    "\n",
    "batch = {\n",
    "    key: torch.stack([single_batch[key] for single_batch in single_cycle_batches], dim=-1)\n",
    "    for key in single_cycle_batches[0].keys()\n",
    "}\n",
    "\n",
    "##########################################################################\n",
    "#               END OF YOUR CODE                                         #\n",
    "##########################################################################\n",
    "\n",
    "expected_shapes = {\n",
    "    'msa_feat': (512, 59, 49, 4),\n",
    "    'extra_msa_feat': (5120, 59, 25, 4),\n",
    "    'target_feat': (59, 21, 4),\n",
    "    'residue_index': (59, 4),\n",
    "}\n",
    "\n",
    "shapes = { key: value.shape for key, value in batch.items() }\n",
    "assert set(expected_shapes.keys()) == set(shapes.keys())\n",
    "for key, shape in shapes.items():\n",
    "    assert expected_shapes[key] == shape, f'Shape mismatch for {key}: {shape} vs {expected_shapes[key]}'\n",
    "\n",
    "\n"
   ]
  },
  {
   "cell_type": "markdown",
   "metadata": {},
   "source": [
    "For a faster forward pass, we'll map the model and the inputs to the GPU, if a compatible one is available."
   ]
  },
  {
   "cell_type": "code",
   "execution_count": 10,
   "metadata": {},
   "outputs": [],
   "source": [
    "model.to(device)\n",
    "for key, value in batch.items():\n",
    "    batch[key] = value.to(device)"
   ]
  },
  {
   "cell_type": "markdown",
   "metadata": {},
   "source": [
    "Now it's time for the forward pass. If you weren't careful with mapping all the tensors you created within the methods to the correct device (which you can grab from any of the input tensors of the methods), you'll have to do some debugging before this runs through."
   ]
  },
  {
   "cell_type": "code",
   "execution_count": 11,
   "metadata": {},
   "outputs": [
    {
     "name": "stdout",
     "output_type": "stream",
     "text": [
      "Starting iteration 0...\n",
      "Starting iteration 1...\n",
      "Starting iteration 2...\n",
      "Starting iteration 3...\n"
     ]
    }
   ],
   "source": [
    "with torch.no_grad():\n",
    "    outputs = model(batch)"
   ]
  },
  {
   "cell_type": "markdown",
   "metadata": {},
   "source": [
    "We wrote a little wrapper around the modelcif python library, to create an mmcif file from our atom positions. If you are interested, you can inspect it in `utils.py`. The following cell uses this method to create `prediction.mmcif`."
   ]
  },
  {
   "cell_type": "code",
   "execution_count": 12,
   "metadata": {},
   "outputs": [],
   "source": [
    "from model.utils import to_modelcif\n",
    "from geometry.residue_constants import restypes\n",
    "\n",
    "atom_positions = outputs['final_positions'][..., -1]\n",
    "atom_mask = outputs['position_mask'][..., -1]\n",
    "seq_inds = batch['target_feat'].cpu()[..., -1].argmax(dim=-1).numpy()\n",
    "seq = ''.join([restypes[ind] for ind in seq_inds])\n",
    "\n",
    "cif_str = to_modelcif(atom_positions, atom_mask, seq)\n",
    "\n",
    "with open('model/prediction.mmcif', 'w') as f:\n",
    "    f.write(cif_str)"
   ]
  },
  {
   "cell_type": "markdown",
   "metadata": {},
   "source": [
    "The py3Dmol library allows us to visualize our prediction in Jupyter Notebooks. You can uncomment the second `view = ...` line and comment the first one out, to display the protein prediction alongside the crystal structure from the PDB (if you do so, the little sticks in the background are the second part of the dimer from the PDB)."
   ]
  },
  {
   "cell_type": "code",
   "execution_count": 13,
   "metadata": {},
   "outputs": [
    {
     "data": {
      "application/3dmoljs_load.v0": "<div id=\"3dmolviewer_17251151395716748\"  style=\"position: relative; width: 640px; height: 480px;\">\n        <p id=\"3dmolwarning_17251151395716748\" style=\"background-color:#ffcccc;color:black\">3Dmol.js failed to load for some reason.  Please check your browser console for error messages.<br></p>\n        </div>\n<script>\n\nvar loadScriptAsync = function(uri){\n  return new Promise((resolve, reject) => {\n    //this is to ignore the existence of requirejs amd\n    var savedexports, savedmodule;\n    if (typeof exports !== 'undefined') savedexports = exports;\n    else exports = {}\n    if (typeof module !== 'undefined') savedmodule = module;\n    else module = {}\n\n    var tag = document.createElement('script');\n    tag.src = uri;\n    tag.async = true;\n    tag.onload = () => {\n        exports = savedexports;\n        module = savedmodule;\n        resolve();\n    };\n  var firstScriptTag = document.getElementsByTagName('script')[0];\n  firstScriptTag.parentNode.insertBefore(tag, firstScriptTag);\n});\n};\n\nif(typeof $3Dmolpromise === 'undefined') {\n$3Dmolpromise = null;\n  $3Dmolpromise = loadScriptAsync('https://cdnjs.cloudflare.com/ajax/libs/3Dmol/2.3.0/3Dmol-min.js');\n}\n\nvar viewer_17251151395716748 = null;\nvar warn = document.getElementById(\"3dmolwarning_17251151395716748\");\nif(warn) {\n    warn.parentNode.removeChild(warn);\n}\n$3Dmolpromise.then(function() {\nviewer_17251151395716748 = $3Dmol.createViewer(document.getElementById(\"3dmolviewer_17251151395716748\"),{backgroundColor:\"white\"});\n$3Dmol.download(\"2OP8\", viewer_17251151395716748, {}, function() {\nviewer_17251151395716748.zoomTo();\n\tviewer_17251151395716748.addModel(\"data_model\\n_entry.id model\\n_struct.entry_id model\\n_struct.pdbx_model_details .\\n_struct.pdbx_structure_determination_methodology computational\\n_struct.title 'AlphaFold prediction'\\n_audit_conform.dict_location https://raw.githubusercontent.com/ihmwg/ModelCIF/d18ba38/base/mmcif_ma-core.dic\\n_audit_conform.dict_name mmcif_ma.dic\\n_audit_conform.dict_version 1.4.6\\n#\\nloop_\\n_chem_comp.id\\n_chem_comp.type\\n_chem_comp.name\\n_chem_comp.formula\\n_chem_comp.formula_weight\\n_chem_comp.ma_provenance\\nALA 'L-peptide linking' ALANINE 'C3 H7 N O2' 89.094 'CCD Core'\\nARG 'L-peptide linking' ARGININE 'C6 H15 N4 O2 1' 175.212 'CCD Core'\\nASP 'L-peptide linking' 'ASPARTIC ACID' 'C4 H7 N O4' 133.103 'CCD Core'\\nGLN 'L-peptide linking' GLUTAMINE 'C5 H10 N2 O3' 146.146 'CCD Core'\\nGLU 'L-peptide linking' 'GLUTAMIC ACID' 'C5 H9 N O4' 147.130 'CCD Core'\\nGLY 'peptide linking' GLYCINE 'C2 H5 N O2' 75.067 'CCD Core'\\nHIS 'L-peptide linking' HISTIDINE 'C6 H10 N3 O2 1' 156.165 'CCD Core'\\nILE 'L-peptide linking' ISOLEUCINE 'C6 H13 N O2' 131.175 'CCD Core'\\nLEU 'L-peptide linking' LEUCINE 'C6 H13 N O2' 131.175 'CCD Core'\\nLYS 'L-peptide linking' LYSINE 'C6 H15 N2 O2 1' 147.198 'CCD Core'\\nMET 'L-peptide linking' METHIONINE 'C5 H11 N O2 S' 149.208 'CCD Core'\\nPHE 'L-peptide linking' PHENYLALANINE 'C9 H11 N O2' 165.192 'CCD Core'\\nPRO 'L-peptide linking' PROLINE 'C5 H9 N O2' 115.132 'CCD Core'\\nSER 'L-peptide linking' SERINE 'C3 H7 N O3' 105.093 'CCD Core'\\nTHR 'L-peptide linking' THREONINE 'C4 H9 N O3' 119.120 'CCD Core'\\nVAL 'L-peptide linking' VALINE 'C5 H11 N O2' 117.148 'CCD Core'\\n#\\n#\\nloop_\\n_entity.id\\n_entity.type\\n_entity.src_method\\n_entity.pdbx_description\\n_entity.formula_weight\\n_entity.pdbx_number_of_molecules\\n_entity.details\\n1 polymer man 'Model subunit' 7453.286 1 .\\n#\\n#\\nloop_\\n_entity_poly.entity_id\\n_entity_poly.type\\n_entity_poly.nstd_linkage\\n_entity_poly.nstd_monomer\\n_entity_poly.pdbx_strand_id\\n_entity_poly.pdbx_seq_one_letter_code\\n_entity_poly.pdbx_seq_one_letter_code_can\\n1 polypeptide(L) no no A\\nPIAQIHILEGRSDEQKETLIREVSEAISRSLDAPLTSVRVIITEMAKGHFGIGGELASK\\nPIAQIHILEGRSDEQKETLIREVSEAISRSLDAPLTSVRVIITEMAKGHFGIGGELASK\\n#\\n#\\nloop_\\n_entity_poly_seq.entity_id\\n_entity_poly_seq.num\\n_entity_poly_seq.mon_id\\n_entity_poly_seq.hetero\\n1 1 PRO .\\n1 2 ILE .\\n1 3 ALA .\\n1 4 GLN .\\n1 5 ILE .\\n1 6 HIS .\\n1 7 ILE .\\n1 8 LEU .\\n1 9 GLU .\\n1 10 GLY .\\n1 11 ARG .\\n1 12 SER .\\n1 13 ASP .\\n1 14 GLU .\\n1 15 GLN .\\n1 16 LYS .\\n1 17 GLU .\\n1 18 THR .\\n1 19 LEU .\\n1 20 ILE .\\n1 21 ARG .\\n1 22 GLU .\\n1 23 VAL .\\n1 24 SER .\\n1 25 GLU .\\n1 26 ALA .\\n1 27 ILE .\\n1 28 SER .\\n1 29 ARG .\\n1 30 SER .\\n1 31 LEU .\\n1 32 ASP .\\n1 33 ALA .\\n1 34 PRO .\\n1 35 LEU .\\n1 36 THR .\\n1 37 SER .\\n1 38 VAL .\\n1 39 ARG .\\n1 40 VAL .\\n1 41 ILE .\\n1 42 ILE .\\n1 43 THR .\\n1 44 GLU .\\n1 45 MET .\\n1 46 ALA .\\n1 47 LYS .\\n1 48 GLY .\\n1 49 HIS .\\n1 50 PHE .\\n1 51 GLY .\\n1 52 ILE .\\n1 53 GLY .\\n1 54 GLY .\\n1 55 GLU .\\n1 56 LEU .\\n1 57 ALA .\\n1 58 SER .\\n1 59 LYS .\\n#\\n#\\nloop_\\n_struct_asym.id\\n_struct_asym.entity_id\\n_struct_asym.details\\nA 1 'Model subunit A'\\n#\\n#\\nloop_\\n_pdbx_poly_seq_scheme.asym_id\\n_pdbx_poly_seq_scheme.entity_id\\n_pdbx_poly_seq_scheme.seq_id\\n_pdbx_poly_seq_scheme.mon_id\\n_pdbx_poly_seq_scheme.pdb_seq_num\\n_pdbx_poly_seq_scheme.auth_seq_num\\n_pdbx_poly_seq_scheme.pdb_mon_id\\n_pdbx_poly_seq_scheme.auth_mon_id\\n_pdbx_poly_seq_scheme.pdb_strand_id\\n_pdbx_poly_seq_scheme.pdb_ins_code\\nA 1 1 PRO 1 1 PRO PRO A .\\nA 1 2 ILE 2 2 ILE ILE A .\\nA 1 3 ALA 3 3 ALA ALA A .\\nA 1 4 GLN 4 4 GLN GLN A .\\nA 1 5 ILE 5 5 ILE ILE A .\\nA 1 6 HIS 6 6 HIS HIS A .\\nA 1 7 ILE 7 7 ILE ILE A .\\nA 1 8 LEU 8 8 LEU LEU A .\\nA 1 9 GLU 9 9 GLU GLU A .\\nA 1 10 GLY 10 10 GLY GLY A .\\nA 1 11 ARG 11 11 ARG ARG A .\\nA 1 12 SER 12 12 SER SER A .\\nA 1 13 ASP 13 13 ASP ASP A .\\nA 1 14 GLU 14 14 GLU GLU A .\\nA 1 15 GLN 15 15 GLN GLN A .\\nA 1 16 LYS 16 16 LYS LYS A .\\nA 1 17 GLU 17 17 GLU GLU A .\\nA 1 18 THR 18 18 THR THR A .\\nA 1 19 LEU 19 19 LEU LEU A .\\nA 1 20 ILE 20 20 ILE ILE A .\\nA 1 21 ARG 21 21 ARG ARG A .\\nA 1 22 GLU 22 22 GLU GLU A .\\nA 1 23 VAL 23 23 VAL VAL A .\\nA 1 24 SER 24 24 SER SER A .\\nA 1 25 GLU 25 25 GLU GLU A .\\nA 1 26 ALA 26 26 ALA ALA A .\\nA 1 27 ILE 27 27 ILE ILE A .\\nA 1 28 SER 28 28 SER SER A .\\nA 1 29 ARG 29 29 ARG ARG A .\\nA 1 30 SER 30 30 SER SER A .\\nA 1 31 LEU 31 31 LEU LEU A .\\nA 1 32 ASP 32 32 ASP ASP A .\\nA 1 33 ALA 33 33 ALA ALA A .\\nA 1 34 PRO 34 34 PRO PRO A .\\nA 1 35 LEU 35 35 LEU LEU A .\\nA 1 36 THR 36 36 THR THR A .\\nA 1 37 SER 37 37 SER SER A .\\nA 1 38 VAL 38 38 VAL VAL A .\\nA 1 39 ARG 39 39 ARG ARG A .\\nA 1 40 VAL 40 40 VAL VAL A .\\nA 1 41 ILE 41 41 ILE ILE A .\\nA 1 42 ILE 42 42 ILE ILE A .\\nA 1 43 THR 43 43 THR THR A .\\nA 1 44 GLU 44 44 GLU GLU A .\\nA 1 45 MET 45 45 MET MET A .\\nA 1 46 ALA 46 46 ALA ALA A .\\nA 1 47 LYS 47 47 LYS LYS A .\\nA 1 48 GLY 48 48 GLY GLY A .\\nA 1 49 HIS 49 49 HIS HIS A .\\nA 1 50 PHE 50 50 PHE PHE A .\\nA 1 51 GLY 51 51 GLY GLY A .\\nA 1 52 ILE 52 52 ILE ILE A .\\nA 1 53 GLY 53 53 GLY GLY A .\\nA 1 54 GLY 54 54 GLY GLY A .\\nA 1 55 GLU 55 55 GLU GLU A .\\nA 1 56 LEU 56 56 LEU LEU A .\\nA 1 57 ALA 57 57 ALA ALA A .\\nA 1 58 SER 58 58 SER SER A .\\nA 1 59 LYS 59 59 LYS LYS A .\\n#\\n#\\nloop_\\n_ma_data.id\\n_ma_data.name\\n_ma_data.content_type\\n_ma_data.content_type_other_details\\n1 'Model subunit' target .\\n2 Model 'model coordinates' .\\n#\\n#\\nloop_\\n_ma_target_entity.entity_id\\n_ma_target_entity.data_id\\n_ma_target_entity.origin\\n1 1 designed\\n#\\n#\\nloop_\\n_ma_target_entity_instance.asym_id\\n_ma_target_entity_instance.entity_id\\n_ma_target_entity_instance.details\\nA 1 'Model subunit A'\\n#\\n#\\nloop_\\n_ma_model_list.ordinal_id\\n_ma_model_list.model_id\\n_ma_model_list.model_group_id\\n_ma_model_list.model_name\\n_ma_model_list.model_group_name\\n_ma_model_list.data_id\\n_ma_model_list.model_type\\n_ma_model_list.model_type_other_details\\n1 1 1 Model 'All models' 2 'Ab initio model' .\\n#\\n#\\nloop_\\n_atom_site.group_PDB\\n_atom_site.id\\n_atom_site.type_symbol\\n_atom_site.label_atom_id\\n_atom_site.label_alt_id\\n_atom_site.label_comp_id\\n_atom_site.label_seq_id\\n_atom_site.auth_seq_id\\n_atom_site.pdbx_PDB_ins_code\\n_atom_site.label_asym_id\\n_atom_site.Cartn_x\\n_atom_site.Cartn_y\\n_atom_site.Cartn_z\\n_atom_site.occupancy\\n_atom_site.label_entity_id\\n_atom_site.auth_asym_id\\n_atom_site.auth_comp_id\\n_atom_site.B_iso_or_equiv\\n_atom_site.pdbx_PDB_model_num\\nATOM 1 N N . PRO 1 1 ? A -3.7910223 -3.5819726 12.850169 1.000 1 A PRO . 1\\nATOM 2 C CA . PRO 1 1 ? A -4.417798 -3.4763193 11.530493 1.000 1 A PRO . 1\\nATOM 3 C C . PRO 1 1 ? A -3.4621496 -3.8303819 10.393345 1.000 1 A PRO . 1\\nATOM 4 C CB . PRO 1 1 ? A -4.8350115 -2.0054243 11.45508 1.000 1 A PRO . 1\\nATOM 5 O O . PRO 1 1 ? A -2.2437 -3.71279 10.546805 1.000 1 A PRO . 1\\nATOM 6 C CG . PRO 1 1 ? A -4.787374 -1.5218912 12.868543 1.000 1 A PRO . 1\\nATOM 7 C CD . PRO 1 1 ? A -3.8795495 -2.426223 13.651706 1.000 1 A PRO . 1\\nATOM 8 N N . ILE 2 2 ? A -4.1563625 -4.667596 9.489806 1.000 1 A ILE . 1\\nATOM 9 C CA . ILE 2 2 ? A -3.3916717 -5.0541263 8.309119 1.000 1 A ILE . 1\\nATOM 10 C C . ILE 2 2 ? A -3.9041631 -4.291049 7.089777 1.000 1 A ILE . 1\\nATOM 11 C CB . ILE 2 2 ? A -3.4684985 -6.577065 8.05958 1.000 1 A ILE . 1\\nATOM 12 O O . ILE 2 2 ? A -5.1079884 -4.2718654 6.822551 1.000 1 A ILE . 1\\nATOM 13 C CG1 . ILE 2 2 ? A -2.8842826 -7.3436613 9.251699 1.000 1 A ILE . 1\\nATOM 14 C CG2 . ILE 2 2 ? A -2.7453237 -6.9487762 6.761783 1.000 1 A ILE . 1\\nATOM 15 C CD1 . ILE 2 2 ? A -3.0801768 -8.8515215 9.174072 1.000 1 A ILE . 1\\nATOM 16 N N . ALA 3 3 ? A -3.050526 -3.5631504 6.300124 1.000 1 A ALA . 1\\nATOM 17 C CA . ALA 3 3 ? A -3.3716698 -2.9033418 5.037225 1.000 1 A ALA . 1\\nATOM 18 C C . ALA 3 3 ? A -2.8396144 -3.701622 3.8504877 1.000 1 A ALA . 1\\nATOM 19 C CB . ALA 3 3 ? A -2.8047214 -1.4858966 5.018168 1.000 1 A ALA . 1\\nATOM 20 O O . ALA 3 3 ? A -1.6681924 -4.086666 3.8284366 1.000 1 A ALA . 1\\nATOM 21 N N . GLN 4 4 ? A -3.779627 -4.0892177 2.9981384 1.000 1 A GLN . 1\\nATOM 22 C CA . GLN 4 4 ? A -3.4156165 -4.7484226 1.7483606 1.000 1 A GLN . 1\\nATOM 23 C C . GLN 4 4 ? A -3.5279021 -3.7887526 0.5672152 1.000 1 A GLN . 1\\nATOM 24 C CB . GLN 4 4 ? A -4.296009 -5.976655 1.5124105 1.000 1 A GLN . 1\\nATOM 25 O O . GLN 4 4 ? A -4.610878 -3.275412 0.27848095 1.000 1 A GLN . 1\\nATOM 26 C CG . GLN 4 4 ? A -4.103109 -7.0791154 2.5449061 1.000 1 A GLN . 1\\nATOM 27 C CD . GLN 4 4 ? A -4.890332 -8.334093 2.2176692 1.000 1 A GLN . 1\\nATOM 28 N NE2 . GLN 4 4 ? A -4.698989 -9.379079 3.0156457 1.000 1 A GLN . 1\\nATOM 29 O OE1 . GLN 4 4 ? A -5.6648617 -8.363946 1.2560194 1.000 1 A GLN . 1\\nATOM 30 N N . ILE 5 5 ? A -2.297773 -3.4720109 -0.05380678 1.000 1 A ILE . 1\\nATOM 31 C CA . ILE 5 5 ? A -2.220917 -2.5226543 -1.1587933 1.000 1 A ILE . 1\\nATOM 32 C C . ILE 5 5 ? A -1.8228223 -3.2526407 -2.439563 1.000 1 A ILE . 1\\nATOM 33 C CB . ILE 5 5 ? A -1.2203343 -1.3844264 -0.8574836 1.000 1 A ILE . 1\\nATOM 34 O O . ILE 5 5 ? A -0.8260136 -3.978429 -2.463603 1.000 1 A ILE . 1\\nATOM 35 C CG1 . ILE 5 5 ? A -1.6026274 -0.6675992 0.44256926 1.000 1 A ILE . 1\\nATOM 36 C CG2 . ILE 5 5 ? A -1.1553414 -0.3987074 -2.0277665 1.000 1 A ILE . 1\\nATOM 37 C CD1 . ILE 5 5 ? A -0.54908526 0.31120932 0.9425955 1.000 1 A ILE . 1\\nATOM 38 N N . HIS 6 6 ? A -2.7119474 -3.040656 -3.3126373 1.000 1 A HIS . 1\\nATOM 39 C CA . HIS 6 6 ? A -2.4469252 -3.594019 -4.635846 1.000 1 A HIS . 1\\nATOM 40 C C . HIS 6 6 ? A -1.9911729 -2.5089798 -5.605694 1.000 1 A HIS . 1\\nATOM 41 C CB . HIS 6 6 ? A -3.691142 -4.2970715 -5.18157 1.000 1 A HIS . 1\\nATOM 42 O O . HIS 6 6 ? A -2.7083154 -1.5317233 -5.8321238 1.000 1 A HIS . 1\\nATOM 43 C CG . HIS 6 6 ? A -4.2679124 -5.309615 -4.2440243 1.000 1 A HIS . 1\\nATOM 44 C CD2 . HIS 6 6 ? A -5.319149 -5.2369614 -3.3940864 1.000 1 A HIS . 1\\nATOM 45 N ND1 . HIS 6 6 ? A -3.7479134 -6.578531 -4.107674 1.000 1 A HIS . 1\\nATOM 46 C CE1 . HIS 6 6 ? A -4.4575763 -7.2446632 -3.2121706 1.000 1 A HIS . 1\\nATOM 47 N NE2 . HIS 6 6 ? A -5.4168377 -6.453071 -2.763931 1.000 1 A HIS . 1\\nATOM 48 N N . ILE 7 7 ? A -0.7370508 -2.6472855 -6.1290827 1.000 1 A ILE . 1\\nATOM 49 C CA . ILE 7 7 ? A -0.21258685 -1.6403036 -7.0451093 1.000 1 A ILE . 1\\nATOM 50 C C . ILE 7 7 ? A 0.40525946 -2.3227592 -8.263407 1.000 1 A ILE . 1\\nATOM 51 C CB . ILE 7 7 ? A 0.82971454 -0.7341227 -6.3523183 1.000 1 A ILE . 1\\nATOM 52 O O . ILE 7 7 ? A 0.73871183 -3.509139 -8.215598 1.000 1 A ILE . 1\\nATOM 53 C CG1 . ILE 7 7 ? A 2.0195236 -1.5671184 -5.8618097 1.000 1 A ILE . 1\\nATOM 54 C CG2 . ILE 7 7 ? A 0.18914008 0.03965789 -5.19631 1.000 1 A ILE . 1\\nATOM 55 C CD1 . ILE 7 7 ? A 3.1776102 -0.7366125 -5.3259563 1.000 1 A ILE . 1\\nATOM 56 N N . LEU 8 8 ? A 0.45037264 -1.6638894 -9.357949 1.000 1 A LEU . 1\\nATOM 57 C CA . LEU 8 8 ? A 1.121574 -2.1519608 -10.557718 1.000 1 A LEU . 1\\nATOM 58 C C . LEU 8 8 ? A 2.6311312 -2.212023 -10.349736 1.000 1 A LEU . 1\\nATOM 59 C CB . LEU 8 8 ? A 0.79497236 -1.2572634 -11.756326 1.000 1 A LEU . 1\\nATOM 60 O O . LEU 8 8 ? A 3.197531 -1.3797289 -9.637646 1.000 1 A LEU . 1\\nATOM 61 C CG . LEU 8 8 ? A -0.6482417 -1.2999668 -12.2609415 1.000 1 A LEU . 1\\nATOM 62 C CD1 . LEU 8 8 ? A -0.8745483 -0.21805632 -13.311683 1.000 1 A LEU . 1\\nATOM 63 C CD2 . LEU 8 8 ? A -0.97710484 -2.6778572 -12.825362 1.000 1 A LEU . 1\\nATOM 64 N N . GLU 9 9 ? A 3.2251205 -3.1502268 -10.972068 1.000 1 A GLU . 1\\nATOM 65 C CA . GLU 9 9 ? A 4.676924 -3.286878 -10.903535 1.000 1 A GLU . 1\\nATOM 66 C C . GLU 9 9 ? A 5.374775 -2.0609906 -11.485669 1.000 1 A GLU . 1\\nATOM 67 C CB . GLU 9 9 ? A 5.133523 -4.550206 -11.637704 1.000 1 A GLU . 1\\nATOM 68 O O . GLU 9 9 ? A 4.816125 -1.3691752 -12.339497 1.000 1 A GLU . 1\\nATOM 69 C CG . GLU 9 9 ? A 4.807311 -5.841346 -10.901204 1.000 1 A GLU . 1\\nATOM 70 C CD . GLU 9 9 ? A 5.2712493 -7.086875 -11.639462 1.000 1 A GLU . 1\\nATOM 71 O OE1 . GLU 9 9 ? A 5.199743 -8.196044 -11.063178 1.000 1 A GLU . 1\\nATOM 72 O OE2 . GLU 9 9 ? A 5.7107396 -6.9523263 -12.803285 1.000 1 A GLU . 1\\nATOM 73 N N . GLY 10 10 ? A 6.5384784 -1.6341558 -10.976784 1.000 1 A GLY . 1\\nATOM 74 C CA . GLY 10 10 ? A 7.319095 -0.5629851 -11.575103 1.000 1 A GLY . 1\\nATOM 75 C C . GLY 10 10 ? A 7.7016816 0.52112335 -10.585341 1.000 1 A GLY . 1\\nATOM 76 O O . GLY 10 10 ? A 8.432918 1.4523724 -10.928548 1.000 1 A GLY . 1\\nATOM 77 N N . ARG 11 11 ? A 7.2879534 0.39451748 -9.327801 1.000 1 A ARG . 1\\nATOM 78 C CA . ARG 11 11 ? A 7.6623197 1.3758204 -8.31463 1.000 1 A ARG . 1\\nATOM 79 C C . ARG 11 11 ? A 8.987025 1.0051011 -7.656337 1.000 1 A ARG . 1\\nATOM 80 C CB . ARG 11 11 ? A 6.5663404 1.4987171 -7.2538424 1.000 1 A ARG . 1\\nATOM 81 O O . ARG 11 11 ? A 9.277437 -0.17605793 -7.4557247 1.000 1 A ARG . 1\\nATOM 82 C CG . ARG 11 11 ? A 5.1906176 1.8079783 -7.822439 1.000 1 A ARG . 1\\nATOM 83 C CD . ARG 11 11 ? A 5.171073 3.1403623 -8.558555 1.000 1 A ARG . 1\\nATOM 84 N NE . ARG 11 11 ? A 3.8417215 3.4502993 -9.076953 1.000 1 A ARG . 1\\nATOM 85 N NH1 . ARG 11 11 ? A 4.491387 5.3791156 -10.169951 1.000 1 A ARG . 1\\nATOM 86 N NH2 . ARG 11 11 ? A 2.30568 4.692615 -10.248193 1.000 1 A ARG . 1\\nATOM 87 C CZ . ARG 11 11 ? A 3.5492976 4.5066357 -9.830516 1.000 1 A ARG . 1\\nATOM 88 N N . SER 12 12 ? A 9.915732 2.0329108 -7.40684 1.000 1 A SER . 1\\nATOM 89 C CA . SER 12 12 ? A 11.202474 1.7797725 -6.766791 1.000 1 A SER . 1\\nATOM 90 C C . SER 12 12 ? A 11.020556 1.2950201 -5.3323755 1.000 1 A SER . 1\\nATOM 91 C CB . SER 12 12 ? A 12.066318 3.0415702 -6.781531 1.000 1 A SER . 1\\nATOM 92 O O . SER 12 12 ? A 9.991431 1.5603449 -4.7076945 1.000 1 A SER . 1\\nATOM 93 O OG . SER 12 12 ? A 11.55275 4.013232 -5.886681 1.000 1 A SER . 1\\nATOM 94 N N . ASP 13 13 ? A 11.952945 0.67398703 -4.8136535 1.000 1 A ASP . 1\\nATOM 95 C CA . ASP 13 13 ? A 11.910553 0.23505874 -3.422174 1.000 1 A ASP . 1\\nATOM 96 C C . ASP 13 13 ? A 11.753495 1.4232719 -2.4760172 1.000 1 A ASP . 1\\nATOM 97 C CB . ASP 13 13 ? A 13.172833 -0.55468017 -3.0697734 1.000 1 A ASP . 1\\nATOM 98 O O . ASP 13 13 ? A 11.066933 1.325431 -1.4568115 1.000 1 A ASP . 1\\nATOM 99 C CG . ASP 13 13 ? A 13.211336 -1.9294155 -3.713726 1.000 1 A ASP . 1\\nATOM 100 O OD1 . ASP 13 13 ? A 14.301993 -2.534584 -3.7950804 1.000 1 A ASP . 1\\nATOM 101 O OD2 . ASP 13 13 ? A 12.141803 -2.4106457 -4.1463804 1.000 1 A ASP . 1\\nATOM 102 N N . GLU 14 14 ? A 12.322789 2.4549136 -2.807164 1.000 1 A GLU . 1\\nATOM 103 C CA . GLU 14 14 ? A 12.215319 3.6451328 -1.9687524 1.000 1 A GLU . 1\\nATOM 104 C C . GLU 14 14 ? A 10.7774 4.153038 -1.9130809 1.000 1 A GLU . 1\\nATOM 105 C CB . GLU 14 14 ? A 13.143755 4.749364 -2.4807734 1.000 1 A GLU . 1\\nATOM 106 O O . GLU 14 14 ? A 10.293039 4.54604 -0.84975386 1.000 1 A GLU . 1\\nATOM 107 C CG . GLU 14 14 ? A 14.619737 4.4780393 -2.2282834 1.000 1 A GLU . 1\\nATOM 108 C CD . GLU 14 14 ? A 15.191155 3.3891706 -3.1224062 1.000 1 A GLU . 1\\nATOM 109 O OE1 . GLU 14 14 ? A 16.235947 2.7979798 -2.7669063 1.000 1 A GLU . 1\\nATOM 110 O OE2 . GLU 14 14 ? A 14.589702 3.125787 -4.187592 1.000 1 A GLU . 1\\nATOM 111 N N . GLN 15 15 ? A 10.128815 4.120304 -2.9952223 1.000 1 A GLN . 1\\nATOM 112 C CA . GLN 15 15 ? A 8.733167 4.542323 -3.0505757 1.000 1 A GLN . 1\\nATOM 113 C C . GLN 15 15 ? A 7.8438344 3.6105535 -2.2323031 1.000 1 A GLN . 1\\nATOM 114 C CB . GLN 15 15 ? A 8.245041 4.5959654 -4.4990826 1.000 1 A GLN . 1\\nATOM 115 O O . GLN 15 15 ? A 6.941907 4.0662646 -1.5262051 1.000 1 A GLN . 1\\nATOM 116 C CG . GLN 15 15 ? A 8.802957 5.7694545 -5.2930145 1.000 1 A GLN . 1\\nATOM 117 C CD . GLN 15 15 ? A 8.356846 5.7621865 -6.743085 1.000 1 A GLN . 1\\nATOM 118 N NE2 . GLN 15 15 ? A 7.905637 6.91294 -7.230475 1.000 1 A GLN . 1\\nATOM 119 O OE1 . GLN 15 15 ? A 8.418054 4.7309303 -7.4200797 1.000 1 A GLN . 1\\nATOM 120 N N . LYS 16 16 ? A 8.086586 2.3807936 -2.3338456 1.000 1 A LYS . 1\\nATOM 121 C CA . LYS 16 16 ? A 7.316056 1.4041389 -1.5695486 1.000 1 A LYS . 1\\nATOM 122 C C . LYS 16 16 ? A 7.5463176 1.5736568 -0.070575714 1.000 1 A LYS . 1\\nATOM 123 C CB . LYS 16 16 ? A 7.6776958 -0.01892078 -1.9976165 1.000 1 A LYS . 1\\nATOM 124 O O . LYS 16 16 ? A 6.6014075 1.5123492 0.71879536 1.000 1 A LYS . 1\\nATOM 125 C CG . LYS 16 16 ? A 7.2534432 -0.3649434 -3.4173136 1.000 1 A LYS . 1\\nATOM 126 C CD . LYS 16 16 ? A 7.7049437 -1.7657889 -3.8099322 1.000 1 A LYS . 1\\nATOM 127 C CE . LYS 16 16 ? A 7.4742775 -2.0339775 -5.2909875 1.000 1 A LYS . 1\\nATOM 128 N NZ . LYS 16 16 ? A 8.039664 -3.3513165 -5.710083 1.000 1 A LYS . 1\\nATOM 129 N N . GLU 17 17 ? A 8.777291 1.8542325 0.29004347 1.000 1 A GLU . 1\\nATOM 130 C CA . GLU 17 17 ? A 9.094364 2.0673392 1.6989988 1.000 1 A GLU . 1\\nATOM 131 C C . GLU 17 17 ? A 8.384205 3.303306 2.2437341 1.000 1 A GLU . 1\\nATOM 132 C CB . GLU 17 17 ? A 10.606681 2.2000737 1.8958905 1.000 1 A GLU . 1\\nATOM 133 O O . GLU 17 17 ? A 7.8643036 3.2849026 3.3613584 1.000 1 A GLU . 1\\nATOM 134 C CG . GLU 17 17 ? A 11.354786 0.87682724 1.8234566 1.000 1 A GLU . 1\\nATOM 135 C CD . GLU 17 17 ? A 12.8647785 1.0361909 1.9017786 1.000 1 A GLU . 1\\nATOM 136 O OE1 . GLU 17 17 ? A 13.590357 0.027411938 1.7488902 1.000 1 A GLU . 1\\nATOM 137 O OE2 . GLU 17 17 ? A 13.3259735 2.1789722 2.1187758 1.000 1 A GLU . 1\\nATOM 138 N N . THR 18 18 ? A 8.4192 4.3088136 1.4829098 1.000 1 A THR . 1\\nATOM 139 C CA . THR 18 18 ? A 7.727454 5.535141 1.864214 1.000 1 A THR . 1\\nATOM 140 C C . THR 18 18 ? A 6.227507 5.2898865 2.000907 1.000 1 A THR . 1\\nATOM 141 C CB . THR 18 18 ? A 7.975482 6.6579957 0.84000266 1.000 1 A THR . 1\\nATOM 142 O O . THR 18 18 ? A 5.5962787 5.7788553 2.9401512 1.000 1 A THR . 1\\nATOM 143 C CG2 . THR 18 18 ? A 7.2058954 7.921199 1.21157 1.000 1 A THR . 1\\nATOM 144 O OG1 . THR 18 18 ? A 9.375818 6.959397 0.79988736 1.000 1 A THR . 1\\nATOM 145 N N . LEU 19 19 ? A 5.74341 4.6092396 1.1033138 1.000 1 A LEU . 1\\nATOM 146 C CA . LEU 19 19 ? A 4.3250484 4.272932 1.1609312 1.000 1 A LEU . 1\\nATOM 147 C C . LEU 19 19 ? A 4.005208 3.4802494 2.4238582 1.000 1 A LEU . 1\\nATOM 148 C CB . LEU 19 19 ? A 3.9133737 3.4713798 -0.07674801 1.000 1 A LEU . 1\\nATOM 149 O O . LEU 19 19 ? A 3.020423 3.7662766 3.1086812 1.000 1 A LEU . 1\\nATOM 150 C CG . LEU 19 19 ? A 2.4431782 3.0576415 -0.15844142 1.000 1 A LEU . 1\\nATOM 151 C CD1 . LEU 19 19 ? A 1.5477288 4.290953 -0.21243548 1.000 1 A LEU . 1\\nATOM 152 C CD2 . LEU 19 19 ? A 2.2053757 2.1643612 -1.3712087 1.000 1 A LEU . 1\\nATOM 153 N N . ILE 20 20 ? A 4.7689266 2.465529 2.689835 1.000 1 A ILE . 1\\nATOM 154 C CA . ILE 20 20 ? A 4.5796757 1.6528343 3.8864508 1.000 1 A ILE . 1\\nATOM 155 C C . ILE 20 20 ? A 4.621603 2.5427687 5.126607 1.000 1 A ILE . 1\\nATOM 156 C CB . ILE 20 20 ? A 5.647069 0.5403048 3.9887388 1.000 1 A ILE . 1\\nATOM 157 O O . ILE 20 20 ? A 3.7816 2.41293 6.0202007 1.000 1 A ILE . 1\\nATOM 158 C CG1 . ILE 20 20 ? A 5.3987226 -0.537243 2.9269764 1.000 1 A ILE . 1\\nATOM 159 C CG2 . ILE 20 20 ? A 5.659898 -0.06816542 5.3940945 1.000 1 A ILE . 1\\nATOM 160 C CD1 . ILE 20 20 ? A 6.550229 -1.5192662 2.760527 1.000 1 A ILE . 1\\nATOM 161 N N . ARG 21 21 ? A 5.5440397 3.4283934 5.1939893 1.000 1 A ARG . 1\\nATOM 162 C CA . ARG 21 21 ? A 5.696294 4.320293 6.3389587 1.000 1 A ARG . 1\\nATOM 163 C C . ARG 21 21 ? A 4.48487 5.2349577 6.4854736 1.000 1 A ARG . 1\\nATOM 164 C CB . ARG 21 21 ? A 6.9708114 5.156301 6.2039113 1.000 1 A ARG . 1\\nATOM 165 O O . ARG 21 21 ? A 3.9336042 5.3733215 7.5794034 1.000 1 A ARG . 1\\nATOM 166 C CG . ARG 21 21 ? A 7.255967 6.04318 7.4054475 1.000 1 A ARG . 1\\nATOM 167 C CD . ARG 21 21 ? A 8.542001 6.8380594 7.2271867 1.000 1 A ARG . 1\\nATOM 168 N NE . ARG 21 21 ? A 8.489548 7.689437 6.042123 1.000 1 A ARG . 1\\nATOM 169 N NH1 . ARG 21 21 ? A 10.731049 7.4667974 5.5291467 1.000 1 A ARG . 1\\nATOM 170 N NH2 . ARG 21 21 ? A 9.370755 8.755405 4.208613 1.000 1 A ARG . 1\\nATOM 171 C CZ . ARG 21 21 ? A 9.53057 7.9686027 5.262666 1.000 1 A ARG . 1\\nATOM 172 N N . GLU 22 22 ? A 4.1332607 5.773558 5.403609 1.000 1 A GLU . 1\\nATOM 173 C CA . GLU 22 22 ? A 3.048458 6.7493825 5.4491825 1.000 1 A GLU . 1\\nATOM 174 C C . GLU 22 22 ? A 1.7170027 6.079623 5.77679 1.000 1 A GLU . 1\\nATOM 175 C CB . GLU 22 22 ? A 2.9457278 7.501921 4.12004 1.000 1 A GLU . 1\\nATOM 176 O O . GLU 22 22 ? A 0.9271688 6.6077056 6.5622916 1.000 1 A GLU . 1\\nATOM 177 C CG . GLU 22 22 ? A 4.1360974 8.404881 3.8309474 1.000 1 A GLU . 1\\nATOM 178 C CD . GLU 22 22 ? A 4.2702155 9.554814 4.8164806 1.000 1 A GLU . 1\\nATOM 179 O OE1 . GLU 22 22 ? A 5.411302 9.995242 5.0837255 1.000 1 A GLU . 1\\nATOM 180 O OE2 . GLU 22 22 ? A 3.2257686 10.018465 5.3262825 1.000 1 A GLU . 1\\nATOM 181 N N . VAL 23 23 ? A 1.4850245 5.0012574 5.1903315 1.000 1 A VAL . 1\\nATOM 182 C CA . VAL 23 23 ? A 0.24035527 4.2857866 5.451224 1.000 1 A VAL . 1\\nATOM 183 C C . VAL 23 23 ? A 0.20270906 3.8279738 6.9074926 1.000 1 A VAL . 1\\nATOM 184 C CB . VAL 23 23 ? A 0.073566616 3.0740623 4.50709 1.000 1 A VAL . 1\\nATOM 185 O O . VAL 23 23 ? A -0.83152676 3.9326086 7.5711045 1.000 1 A VAL . 1\\nATOM 186 C CG1 . VAL 23 23 ? A -1.0831976 2.1877098 4.965256 1.000 1 A VAL . 1\\nATOM 187 C CG2 . VAL 23 23 ? A -0.1458653 3.5441055 3.070294 1.000 1 A VAL . 1\\nATOM 188 N N . SER 24 24 ? A 1.3015873 3.3190427 7.3644204 1.000 1 A SER . 1\\nATOM 189 C CA . SER 24 24 ? A 1.363863 2.8856943 8.75646 1.000 1 A SER . 1\\nATOM 190 C C . SER 24 24 ? A 1.0618674 4.038268 9.708301 1.000 1 A SER . 1\\nATOM 191 C CB . SER 24 24 ? A 2.7395358 2.2982686 9.074316 1.000 1 A SER . 1\\nATOM 192 O O . SER 24 24 ? A 0.30007732 3.877594 10.664115 1.000 1 A SER . 1\\nATOM 193 O OG . SER 24 24 ? A 2.977205 1.1303991 8.307354 1.000 1 A SER . 1\\nATOM 194 N N . GLU 25 25 ? A 1.7146517 5.2333937 9.599257 1.000 1 A GLU . 1\\nATOM 195 C CA . GLU 25 25 ? A 1.5051813 6.3970633 10.45547 1.000 1 A GLU . 1\\nATOM 196 C C . GLU 25 25 ? A 0.05564487 6.870615 10.398283 1.000 1 A GLU . 1\\nATOM 197 C CB . GLU 25 25 ? A 2.4467402 7.5358176 10.055229 1.000 1 A GLU . 1\\nATOM 198 O O . GLU 25 25 ? A -0.51869255 7.2531934 11.419797 1.000 1 A GLU . 1\\nATOM 199 C CG . GLU 25 25 ? A 3.8895855 7.322152 10.48932 1.000 1 A GLU . 1\\nATOM 200 C CD . GLU 25 25 ? A 4.825785 8.426247 10.024438 1.000 1 A GLU . 1\\nATOM 201 O OE1 . GLU 25 25 ? A 6.034354 8.373125 10.346949 1.000 1 A GLU . 1\\nATOM 202 O OE2 . GLU 25 25 ? A 4.3466043 9.352467 9.332889 1.000 1 A GLU . 1\\nATOM 203 N N . ALA 26 26 ? A -0.54317987 6.787851 9.234485 1.000 1 A ALA . 1\\nATOM 204 C CA . ALA 26 26 ? A -1.9356502 7.197407 9.071127 1.000 1 A ALA . 1\\nATOM 205 C C . ALA 26 26 ? A -2.8711967 6.2887855 9.86349 1.000 1 A ALA . 1\\nATOM 206 C CB . ALA 26 26 ? A -2.3213112 7.1947193 7.593899 1.000 1 A ALA . 1\\nATOM 207 O O . ALA 26 26 ? A -3.7757182 6.767342 10.551821 1.000 1 A ALA . 1\\nATOM 208 N N . ILE 27 27 ? A -2.6742857 4.9413595 9.685369 1.000 1 A ILE . 1\\nATOM 209 C CA . ILE 27 27 ? A -3.490594 3.9614522 10.393606 1.000 1 A ILE . 1\\nATOM 210 C C . ILE 27 27 ? A -3.321774 4.141696 11.900504 1.000 1 A ILE . 1\\nATOM 211 C CB . ILE 27 27 ? A -3.1246293 2.5177484 9.9821415 1.000 1 A ILE . 1\\nATOM 212 O O . ILE 27 27 ? A -4.3025045 4.122649 12.648019 1.000 1 A ILE . 1\\nATOM 213 C CG1 . ILE 27 27 ? A -3.5704007 2.2439125 8.54116 1.000 1 A ILE . 1\\nATOM 214 C CG2 . ILE 27 27 ? A -3.7466617 1.5064259 10.949472 1.000 1 A ILE . 1\\nATOM 215 C CD1 . ILE 27 27 ? A -3.0722435 0.919031 7.980293 1.000 1 A ILE . 1\\nATOM 216 N N . SER 28 28 ? A -2.0716677 4.375054 12.332254 1.000 1 A SER . 1\\nATOM 217 C CA . SER 28 28 ? A -1.7883873 4.586385 13.74807 1.000 1 A SER . 1\\nATOM 218 C C . SER 28 28 ? A -2.5064573 5.823459 14.276888 1.000 1 A SER . 1\\nATOM 219 C CB . SER 28 28 ? A -0.28290272 4.7228456 13.979304 1.000 1 A SER . 1\\nATOM 220 O O . SER 28 28 ? A -3.1322176 5.778303 15.338069 1.000 1 A SER . 1\\nATOM 221 O OG . SER 28 28 ? A -0.005219996 4.982695 15.34459 1.000 1 A SER . 1\\nATOM 222 N N . ARG 29 29 ? A -2.4572744 6.876854 13.589846 1.000 1 A ARG . 1\\nATOM 223 C CA . ARG 29 29 ? A -3.066726 8.13243 14.01613 1.000 1 A ARG . 1\\nATOM 224 C C . ARG 29 29 ? A -4.588498 8.047738 13.964503 1.000 1 A ARG . 1\\nATOM 225 C CB . ARG 29 29 ? A -2.5765636 9.291274 13.145289 1.000 1 A ARG . 1\\nATOM 226 O O . ARG 29 29 ? A -5.2738523 8.543778 14.861139 1.000 1 A ARG . 1\\nATOM 227 C CG . ARG 29 29 ? A -1.136452 9.697759 13.414375 1.000 1 A ARG . 1\\nATOM 228 C CD . ARG 29 29 ? A -0.8075456 11.050209 12.797778 1.000 1 A ARG . 1\\nATOM 229 N NE . ARG 29 29 ? A -1.0271077 11.052191 11.354255 1.000 1 A ARG . 1\\nATOM 230 N NH1 . ARG 29 29 ? A 1.0676837 10.233664 10.82614 1.000 1 A ARG . 1\\nATOM 231 N NH2 . ARG 29 29 ? A -0.4360599 10.706992 9.161979 1.000 1 A ARG . 1\\nATOM 232 C CZ . ARG 29 29 ? A -0.13132668 10.664277 10.450753 1.000 1 A ARG . 1\\nATOM 233 N N . SER 30 30 ? A -5.032467 7.400001 13.027343 1.000 1 A SER . 1\\nATOM 234 C CA . SER 30 30 ? A -6.4667473 7.3857822 12.758864 1.000 1 A SER . 1\\nATOM 235 C C . SER 30 30 ? A -7.1951656 6.4284344 13.6961565 1.000 1 A SER . 1\\nATOM 236 C CB . SER 30 30 ? A -6.7365427 6.99343 11.305645 1.000 1 A SER . 1\\nATOM 237 O O . SER 30 30 ? A -8.3186245 6.7035747 14.122605 1.000 1 A SER . 1\\nATOM 238 O OG . SER 30 30 ? A -6.224391 7.9716425 10.417144 1.000 1 A SER . 1\\nATOM 239 N N . LEU 31 31 ? A -6.5022125 5.35881 13.901943 1.000 1 A LEU . 1\\nATOM 240 C CA . LEU 31 31 ? A -7.155775 4.30057 14.664278 1.000 1 A LEU . 1\\nATOM 241 C C . LEU 31 31 ? A -6.545995 4.1776485 16.056644 1.000 1 A LEU . 1\\nATOM 242 C CB . LEU 31 31 ? A -7.047228 2.963266 13.926955 1.000 1 A LEU . 1\\nATOM 243 O O . LEU 31 31 ? A -6.9661484 3.3328438 16.850603 1.000 1 A LEU . 1\\nATOM 244 C CG . LEU 31 31 ? A -7.745692 2.8791773 12.568867 1.000 1 A LEU . 1\\nATOM 245 C CD1 . LEU 31 31 ? A -7.501042 1.5159031 11.930564 1.000 1 A LEU . 1\\nATOM 246 C CD2 . LEU 31 31 ? A -9.239788 3.1449742 12.718302 1.000 1 A LEU . 1\\nATOM 247 N N . ASP 32 32 ? A -5.7073255 5.112049 16.348791 1.000 1 A ASP . 1\\nATOM 248 C CA . ASP 32 32 ? A -4.996207 5.0743885 17.622982 1.000 1 A ASP . 1\\nATOM 249 C C . ASP 32 32 ? A -4.3929343 3.6943722 17.874676 1.000 1 A ASP . 1\\nATOM 250 C CB . ASP 32 32 ? A -5.9321203 5.456751 18.7715 1.000 1 A ASP . 1\\nATOM 251 O O . ASP 32 32 ? A -4.4539156 3.1789813 18.992878 1.000 1 A ASP . 1\\nATOM 252 C CG . ASP 32 32 ? A -5.1894507 5.918391 20.013025 1.000 1 A ASP . 1\\nATOM 253 O OD1 . ASP 32 32 ? A -5.729918 5.784752 21.132141 1.000 1 A ASP . 1\\nATOM 254 O OD2 . ASP 32 32 ? A -4.0546827 6.423079 19.870663 1.000 1 A ASP . 1\\nATOM 255 N N . ALA 33 33 ? A -3.9462678 3.0736864 16.778423 1.000 1 A ALA . 1\\nATOM 256 C CA . ALA 33 33 ? A -3.2429445 1.7969475 16.87155 1.000 1 A ALA . 1\\nATOM 257 C C . ALA 33 33 ? A -1.7380896 2.0085711 17.010506 1.000 1 A ALA . 1\\nATOM 258 C CB . ALA 33 33 ? A -3.5450208 0.93265575 15.64979 1.000 1 A ALA . 1\\nATOM 259 O O . ALA 33 33 ? A -1.1749402 2.9232059 16.404469 1.000 1 A ALA . 1\\nATOM 260 N N . PRO 34 34 ? A -1.1371076 1.2115964 17.960835 1.000 1 A PRO . 1\\nATOM 261 C CA . PRO 34 34 ? A 0.32299545 1.3142233 18.01674 1.000 1 A PRO . 1\\nATOM 262 C C . PRO 34 34 ? A 0.98776746 1.0079746 16.676584 1.000 1 A PRO . 1\\nATOM 263 C CB . PRO 34 34 ? A 0.7096728 0.27175367 19.068893 1.000 1 A PRO . 1\\nATOM 264 O O . PRO 34 34 ? A 0.59430945 0.061411142 15.99014 1.000 1 A PRO . 1\\nATOM 265 C CG . PRO 34 34 ? A -0.56816506 -0.052296072 19.773218 1.000 1 A PRO .\\n1\\nATOM 266 C CD . PRO 34 34 ? A -1.7102805 0.21001509 18.834032 1.000 1 A PRO . 1\\nATOM 267 N N . LEU 35 35 ? A 1.8926799 1.8150737 16.200758 1.000 1 A LEU . 1\\nATOM 268 C CA . LEU 35 35 ? A 2.5813475 1.668704 14.923072 1.000 1 A LEU . 1\\nATOM 269 C C . LEU 35 35 ? A 3.1727026 0.27018833 14.781367 1.000 1 A LEU . 1\\nATOM 270 C CB . LEU 35 35 ? A 3.6866484 2.7191424 14.786319 1.000 1 A LEU . 1\\nATOM 271 O O . LEU 35 35 ? A 3.1655428 -0.30378264 13.689991 1.000 1 A LEU . 1\\nATOM 272 C CG . LEU 35 35 ? A 4.3114133 2.8691964 13.398342 1.000 1 A LEU . 1\\nATOM 273 C CD1 . LEU 35 35 ? A 3.2626066 3.3311348 12.392152 1.000 1 A LEU . 1\\nATOM 274 C CD2 . LEU 35 35 ? A 5.483744 3.8433907 13.441813 1.000 1 A LEU . 1\\nATOM 275 N N . THR 36 36 ? A 3.5515175 -0.3215735 15.867756 1.000 1 A THR . 1\\nATOM 276 C CA . THR 36 36 ? A 4.2293353 -1.6129127 15.839636 1.000 1 A THR . 1\\nATOM 277 C C . THR 36 36 ? A 3.2384887 -2.737728 15.5538225 1.000 1 A THR . 1\\nATOM 278 C CB . THR 36 36 ? A 4.956634 -1.8911219 17.168156 1.000 1 A THR . 1\\nATOM 279 O O . THR 36 36 ? A 3.6396952 -3.8668694 15.264352 1.000 1 A THR . 1\\nATOM 280 C CG2 . THR 36 36 ? A 6.1110916 -0.9167876 17.3777 1.000 1 A THR . 1\\nATOM 281 O OG1 . THR 36 36 ? A 4.0287523 -1.755335 18.251663 1.000 1 A THR . 1\\nATOM 282 N N . SER 37 37 ? A 1.985895 -2.4278772 15.607217 1.000 1 A SER . 1\\nATOM 283 C CA . SER 37 37 ? A 0.96117496 -3.4448676 15.394798 1.000 1 A SER . 1\\nATOM 284 C C . SER 37 37 ? A 0.40563303 -3.3820026 13.975979 1.000 1 A SER . 1\\nATOM 285 C CB . SER 37 37 ? A -0.17578578 -3.279693 16.404062 1.000 1 A SER . 1\\nATOM 286 O O . SER 37 37 ? A -0.33665133 -4.2713723 13.554367 1.000 1 A SER . 1\\nATOM 287 O OG . SER 37 37 ? A -0.909712 -2.0951395 16.145563 1.000 1 A SER . 1\\nATOM 288 N N . VAL 38 38 ? A 0.91416895 -2.3367355 13.18931 1.000 1 A VAL . 1\\nATOM 289 C CA . VAL 38 38 ? A 0.39381328 -2.1553237 11.838205 1.000 1 A VAL . 1\\nATOM 290 C C . VAL 38 38 ? A 1.2485279 -2.9398508 10.845377 1.000 1 A VAL . 1\\nATOM 291 C CB . VAL 38 38 ? A 0.35154167 -0.6624539 11.441928 1.000 1 A VAL . 1\\nATOM 292 O O . VAL 38 38 ? A 2.4770045 -2.8314013 10.852918 1.000 1 A VAL . 1\\nATOM 293 C CG1 . VAL 38 38 ? A -0.090706736 -0.5018571 9.9885645 1.000 1 A VAL .\\n1\\nATOM 294 C CG2 . VAL 38 38 ? A -0.57834554 0.11063254 12.375266 1.000 1 A VAL .\\n1\\nATOM 295 N N . ARG 39 39 ? A 0.5471624 -3.7901802 10.090965 1.000 1 A ARG . 1\\nATOM 296 C CA . ARG 39 39 ? A 1.2197958 -4.502391 9.009327 1.000 1 A ARG . 1\\nATOM 297 C C . ARG 39 39 ? A 0.74736375 -4.003134 7.6480126 1.000 1 A ARG . 1\\nATOM 298 C CB . ARG 39 39 ? A 0.9803972 -6.009186 9.126803 1.000 1 A ARG . 1\\nATOM 299 O O . ARG 39 39 ? A -0.4559428 -3.938701 7.387969 1.000 1 A ARG . 1\\nATOM 300 C CG . ARG 39 39 ? A 1.475621 -6.6116877 10.43191 1.000 1 A ARG . 1\\nATOM 301 C CD . ARG 39 39 ? A 2.9873354 -6.495689 10.56887 1.000 1 A ARG . 1\\nATOM 302 N NE . ARG 39 39 ? A 3.4717548 -7.159844 11.775604 1.000 1 A ARG . 1\\nATOM 303 N NH1 . ARG 39 39 ? A 3.6852725 -5.217586 13.008117 1.000 1 A ARG . 1\\nATOM 304 N NH2 . ARG 39 39 ? A 4.222867 -7.239697 13.944481 1.000 1 A ARG . 1\\nATOM 305 C CZ . ARG 39 39 ? A 3.7921922 -6.537526 12.906646 1.000 1 A ARG . 1\\nATOM 306 N N . VAL 40 40 ? A 1.6817062 -3.6264246 6.7545943 1.000 1 A VAL . 1\\nATOM 307 C CA . VAL 40 40 ? A 1.3720323 -3.2051609 5.3923154 1.000 1 A VAL . 1\\nATOM 308 C C . VAL 40 40 ? A 1.9189942 -4.2270975 4.3982296 1.000 1 A VAL . 1\\nATOM 309 C CB . VAL 40 40 ? A 1.9470907 -1.8038994 5.086935 1.000 1 A VAL . 1\\nATOM 310 O O . VAL 40 40 ? A 3.0989234 -4.582233 4.4494057 1.000 1 A VAL . 1\\nATOM 311 C CG1 . VAL 40 40 ? A 1.5950077 -1.3740783 3.6639338 1.000 1 A VAL . 1\\nATOM 312 C CG2 . VAL 40 40 ? A 1.4309063 -0.7835877 6.099847 1.000 1 A VAL . 1\\nATOM 313 N N . ILE 41 41 ? A 1.058402 -4.82796 3.5680494 1.000 1 A ILE . 1\\nATOM 314 C CA . ILE 41 41 ? A 1.4293153 -5.7993565 2.544824 1.000 1 A ILE . 1\\nATOM 315 C C . ILE 41 41 ? A 1.202203 -5.200778 1.1585149 1.000 1 A ILE . 1\\nATOM 316 C CB . ILE 41 41 ? A 0.6321269 -7.1140795 2.6981509 1.000 1 A ILE . 1\\nATOM 317 O O . ILE 41 41 ? A 0.081044436 -4.816494 0.81748265 1.000 1 A ILE . 1\\nATOM 318 C CG1 . ILE 41 41 ? A 0.8335642 -7.7003 4.100254 1.000 1 A ILE . 1\\nATOM 319 C CG2 . ILE 41 41 ? A 1.0398612 -8.121768 1.6193818 1.000 1 A ILE . 1\\nATOM 320 C CD1 . ILE 41 41 ? A -0.12943077 -8.828446 4.44372 1.000 1 A ILE . 1\\nATOM 321 N N . ILE 42 42 ? A 2.2838466 -5.043977 0.4439336 1.000 1 A ILE . 1\\nATOM 322 C CA . ILE 42 42 ? A 2.18454 -4.5539064 -0.9265226 1.000 1 A ILE . 1\\nATOM 323 C C . ILE 42 42 ? A 2.2344642 -5.7294564 -1.8998274 1.000 1 A ILE . 1\\nATOM 324 C CB . ILE 42 42 ? A 3.3084066 -3.5435104 -1.248302 1.000 1 A ILE . 1\\nATOM 325 O O . ILE 42 42 ? A 3.1569397 -6.546448 -1.8494442 1.000 1 A ILE . 1\\nATOM 326 C CG1 . ILE 42 42 ? A 3.2258992 -2.3356256 -0.30791086 1.000 1 A ILE .\\n1\\nATOM 327 C CG2 . ILE 42 42 ? A 3.235456 -3.103115 -2.7132795 1.000 1 A ILE . 1\\nATOM 328 C CD1 . ILE 42 42 ? A 4.358073 -1.3334935 -0.48667848 1.000 1 A ILE . 1\\nATOM 329 N N . THR 43 43 ? A 1.2044846 -5.897832 -2.6890466 1.000 1 A THR . 1\\nATOM 330 C CA . THR 43 43 ? A 1.160227 -6.8836093 -3.7633238 1.000 1 A THR . 1\\nATOM 331 C C . THR 43 43 ? A 1.3017215 -6.207446 -5.124008 1.000 1 A THR . 1\\nATOM 332 C CB . THR 43 43 ? A -0.14819396 -7.6946573 -3.7237248 1.000 1 A THR .\\n1\\nATOM 333 O O . THR 43 43 ? A 0.47739857 -5.3693933 -5.495332 1.000 1 A THR . 1\\nATOM 334 C CG2 . THR 43 43 ? A -0.14410004 -8.79699 -4.7776966 1.000 1 A THR . 1\\nATOM 335 O OG1 . THR 43 43 ? A -0.29648644 -8.288334 -2.4279807 1.000 1 A THR .\\n1\\nATOM 336 N N . GLU 44 44 ? A 2.3328013 -6.4700484 -5.7948685 1.000 1 A GLU . 1\\nATOM 337 C CA . GLU 44 44 ? A 2.5859334 -5.88427 -7.10784 1.000 1 A GLU . 1\\nATOM 338 C C . GLU 44 44 ? A 1.9922968 -6.744479 -8.219737 1.000 1 A GLU . 1\\nATOM 339 C CB . GLU 44 44 ? A 4.088581 -5.697365 -7.3327956 1.000 1 A GLU . 1\\nATOM 340 O O . GLU 44 44 ? A 2.1636095 -7.9652724 -8.225886 1.000 1 A GLU . 1\\nATOM 341 C CG . GLU 44 44 ? A 4.7288857 -4.6820917 -6.397316 1.000 1 A GLU . 1\\nATOM 342 C CD . GLU 44 44 ? A 6.2056174 -4.4547706 -6.678741 1.000 1 A GLU . 1\\nATOM 343 O OE1 . GLU 44 44 ? A 6.547219 -3.4664886 -7.3672776 1.000 1 A GLU . 1\\nATOM 344 O OE2 . GLU 44 44 ? A 7.0276318 -5.2721634 -6.2076774 1.000 1 A GLU . 1\\nATOM 345 N N . MET 45 45 ? A 1.2543395 -6.0417604 -9.085999 1.000 1 A MET . 1\\nATOM 346 C CA . MET 45 45 ? A 0.6379863 -6.7006345 -10.234011 1.000 1 A MET . 1\\nATOM 347 C C . MET 45 45 ? A 1.3048172 -6.2646337 -11.534344 1.000 1 A MET . 1\\nATOM 348 C CB . MET 45 45 ? A -0.8605032 -6.3982224 -10.287699 1.000 1 A MET . 1\\nATOM 349 O O . MET 45 45 ? A 1.515346 -5.0715137 -11.759315 1.000 1 A MET . 1\\nATOM 350 C CG . MET 45 45 ? A -1.6356266 -6.9260235 -9.091346 1.000 1 A MET . 1\\nATOM 351 S SD . MET 45 45 ? A -3.4208694 -6.5091014 -9.170848 1.000 1 A MET . 1\\nATOM 352 C CE . MET 45 45 ? A -3.3414965 -4.713475 -8.922605 1.000 1 A MET . 1\\nATOM 353 N N . ALA 46 46 ? A 1.5677397 -7.233222 -12.256602 1.000 1 A ALA . 1\\nATOM 354 C CA . ALA 46 46 ? A 2.1044679 -6.900654 -13.5736885 1.000 1 A ALA . 1\\nATOM 355 C C . ALA 46 46 ? A 1.0739179 -6.150226 -14.412439 1.000 1 A ALA . 1\\nATOM 356 C CB . ALA 46 46 ? A 2.5568326 -8.165717 -14.298896 1.000 1 A ALA . 1\\nATOM 357 O O . ALA 46 46 ? A -0.12951136 -6.3900995 -14.28918 1.000 1 A ALA . 1\\nATOM 358 N N . LYS 47 47 ? A 1.4779979 -5.258466 -15.19936 1.000 1 A LYS . 1\\nATOM 359 C CA . LYS 47 47 ? A 0.5905564 -4.4700994 -16.049446 1.000 1 A LYS . 1\\nATOM 360 C C . LYS 47 47 ? A -0.22685128 -5.3683524 -16.973385 1.000 1 A LYS . 1\\nATOM 361 C CB . LYS 47 47 ? A 1.3924252 -3.4617705 -16.873705 1.000 1 A LYS . 1\\nATOM 362 O O . LYS 47 47 ? A -1.3533244 -5.028463 -17.341152 1.000 1 A LYS . 1\\nATOM 363 C CG . LYS 47 47 ? A 1.9789252 -2.3206353 -16.055727 1.000 1 A LYS . 1\\nATOM 364 C CD . LYS 47 47 ? A 2.712108 -1.3191136 -16.938772 1.000 1 A LYS . 1\\nATOM 365 C CE . LYS 47 47 ? A 3.3574939 -0.21322751 -16.114668 1.000 1 A LYS . 1\\nATOM 366 N NZ . LYS 47 47 ? A 4.0740004 0.77380705 -16.97668 1.000 1 A LYS . 1\\nATOM 367 N N . GLY 48 48 ? A 0.29546303 -6.57158 -17.262016 1.000 1 A GLY . 1\\nATOM 368 C CA . GLY 48 48 ? A -0.4175461 -7.506771 -18.117464 1.000 1 A GLY . 1\\nATOM 369 C C . GLY 48 48 ? A -1.5326827 -8.242139 -17.39844 1.000 1 A GLY . 1\\nATOM 370 O O . GLY 48 48 ? A -2.3370388 -8.930893 -18.029589 1.000 1 A GLY . 1\\nATOM 371 N N . HIS 49 49 ? A -1.5870409 -7.9365215 -16.156662 1.000 1 A HIS . 1\\nATOM 372 C CA . HIS 49 49 ? A -2.5613708 -8.675653 -15.36187 1.000 1 A HIS . 1\\nATOM 373 C C . HIS 49 49 ? A -3.6367602 -7.748006 -14.806322 1.000 1 A HIS . 1\\nATOM 374 C CB . HIS 49 49 ? A -1.8673372 -9.418666 -14.218881 1.000 1 A HIS . 1\\nATOM 375 O O . HIS 49 49 ? A -4.5301657 -8.190743 -14.080784 1.000 1 A HIS . 1\\nATOM 376 C CG . HIS 49 49 ? A -0.9727931 -10.525618 -14.678609 1.000 1 A HIS . 1\\nATOM 377 C CD2 . HIS 49 49 ? A -0.78977805 -11.069661 -15.904698 1.000 1 A HIS .\\n1\\nATOM 378 N ND1 . HIS 49 49 ? A -0.13410228 -11.207968 -13.824131 1.000 1 A HIS .\\n1\\nATOM 379 C CE1 . HIS 49 49 ? A 0.5287372 -12.126014 -14.507591 1.000 1 A HIS . 1\\nATOM 380 N NE2 . HIS 49 49 ? A 0.14908254 -12.062932 -15.772346 1.000 1 A HIS .\\n1\\nATOM 381 N N . PHE 50 50 ? A -3.4376101 -6.469409 -15.094534 1.000 1 A PHE . 1\\nATOM 382 C CA . PHE 50 50 ? A -4.4160466 -5.507035 -14.6019945 1.000 1 A PHE . 1\\nATOM 383 C C . PHE 50 50 ? A -5.215215 -4.9096646 -15.753975 1.000 1 A PHE . 1\\nATOM 384 C CB . PHE 50 50 ? A -3.724614 -4.3931856 -13.809525 1.000 1 A PHE . 1\\nATOM 385 O O . PHE 50 50 ? A -4.646579 -4.2899065 -16.655237 1.000 1 A PHE . 1\\nATOM 386 C CG . PHE 50 50 ? A -4.6709857 -3.5421603 -13.00658 1.000 1 A PHE . 1\\nATOM 387 C CD1 . PHE 50 50 ? A -5.265405 -4.0381303 -11.852722 1.000 1 A PHE . 1\\nATOM 388 C CD2 . PHE 50 50 ? A -4.9663076 -2.2452273 -13.406086 1.000 1 A PHE .\\n1\\nATOM 389 C CE1 . PHE 50 50 ? A -6.1418085 -3.2526112 -11.107512 1.000 1 A PHE .\\n1\\nATOM 390 C CE2 . PHE 50 50 ? A -5.8410883 -1.4542689 -12.666601 1.000 1 A PHE .\\n1\\nATOM 391 C CZ . PHE 50 50 ? A -6.4284725 -1.9601842 -11.518274 1.000 1 A PHE . 1\\nATOM 392 N N . GLY 51 51 ? A -6.480266 -5.135469 -15.819645 1.000 1 A GLY . 1\\nATOM 393 C CA . GLY 51 51 ? A -7.389891 -4.6234984 -16.832178 1.000 1 A GLY . 1\\nATOM 394 C C . GLY 51 51 ? A -8.015558 -3.2940373 -16.454865 1.000 1 A GLY . 1\\nATOM 395 O O . GLY 51 51 ? A -8.362735 -3.0729103 -15.292844 1.000 1 A GLY . 1\\nATOM 396 N N . ILE 52 52 ? A -8.015915 -2.2405496 -17.26165 1.000 1 A ILE . 1\\nATOM 397 C CA . ILE 52 52 ? A -8.676369 -0.953224 -17.075178 1.000 1 A ILE . 1\\nATOM 398 C C . ILE 52 52 ? A -9.659703 -0.7074945 -18.217281 1.000 1 A ILE . 1\\nATOM 399 C CB . ILE 52 52 ? A -7.6521482 0.20071965 -16.992104 1.000 1 A ILE . 1\\nATOM 400 O O . ILE 52 52 ? A -9.261889 -0.634236 -19.382336 1.000 1 A ILE . 1\\nATOM 401 C CG1 . ILE 52 52 ? A -6.6568527 -0.049631447 -15.853316 1.000 1 A ILE\\n. 1\\nATOM 402 C CG2 . ILE 52 52 ? A -8.365384 1.5437984 -16.810825 1.000 1 A ILE . 1\\nATOM 403 C CD1 . ILE 52 52 ? A -5.4676366 0.901052 -15.850403 1.000 1 A ILE . 1\\nATOM 404 N N . GLY 53 53 ? A -10.8801 -0.83461916 -17.843534 1.000 1 A GLY . 1\\nATOM 405 C CA . GLY 53 53 ? A -11.902782 -0.54425246 -18.835785 1.000 1 A GLY .\\n1\\nATOM 406 C C . GLY 53 53 ? A -12.007536 -1.6069312 -19.913296 1.000 1 A GLY . 1\\nATOM 407 O O . GLY 53 53 ? A -12.323541 -1.3015518 -21.065079 1.000 1 A GLY . 1\\nATOM 408 N N . GLY 54 54 ? A -11.705493 -2.9100628 -19.563602 1.000 1 A GLY . 1\\nATOM 409 C CA . GLY 54 54 ? A -11.775839 -3.9709342 -20.555752 1.000 1 A GLY . 1\\nATOM 410 C C . GLY 54 54 ? A -10.476659 -4.165503 -21.314413 1.000 1 A GLY . 1\\nATOM 411 O O . GLY 54 54 ? A -10.405059 -4.983754 -22.233685 1.000 1 A GLY . 1\\nATOM 412 N N . GLU 55 55 ? A -9.504599 -3.3767915 -21.07388 1.000 1 A GLU . 1\\nATOM 413 C CA . GLU 55 55 ? A -8.193138 -3.4672766 -21.708694 1.000 1 A GLU . 1\\nATOM 414 C C . GLU 55 55 ? A -7.0910172 -3.6678913 -20.67247 1.000 1 A GLU . 1\\nATOM 415 C CB . GLU 55 55 ? A -7.910782 -2.2138393 -22.540955 1.000 1 A GLU . 1\\nATOM 416 O O . GLU 55 55 ? A -7.23081 -3.2502613 -19.521051 1.000 1 A GLU . 1\\nATOM 417 C CG . GLU 55 55 ? A -8.879576 -2.012147 -23.69709 1.000 1 A GLU . 1\\nATOM 418 C CD . GLU 55 55 ? A -8.555219 -0.79324317 -24.546017 1.000 1 A GLU . 1\\nATOM 419 O OE1 . GLU 55 55 ? A -9.229702 -0.5753948 -25.578049 1.000 1 A GLU . 1\\nATOM 420 O OE2 . GLU 55 55 ? A -7.618332 -0.050593376 -24.17662 1.000 1 A GLU .\\n1\\nATOM 421 N N . LEU 56 56 ? A -6.009465 -4.3258677 -21.076502 1.000 1 A LEU . 1\\nATOM 422 C CA . LEU 56 56 ? A -4.8695626 -4.49127 -20.181273 1.000 1 A LEU . 1\\nATOM 423 C C . LEU 56 56 ? A -4.2182755 -3.1464872 -19.876291 1.000 1 A LEU . 1\\nATOM 424 C CB . LEU 56 56 ? A -3.8393698 -5.442933 -20.795156 1.000 1 A LEU . 1\\nATOM 425 O O . LEU 56 56 ? A -4.1587467 -2.2702508 -20.74189 1.000 1 A LEU . 1\\nATOM 426 C CG . LEU 56 56 ? A -4.283849 -6.8944755 -20.981684 1.000 1 A LEU . 1\\nATOM 427 C CD1 . LEU 56 56 ? A -3.247714 -7.6660624 -21.792166 1.000 1 A LEU . 1\\nATOM 428 C CD2 . LEU 56 56 ? A -4.517004 -7.5605183 -19.629896 1.000 1 A LEU . 1\\nATOM 429 N N . ALA 57 57 ? A -3.8739274 -3.06536 -18.621279 1.000 1 A ALA . 1\\nATOM 430 C CA . ALA 57 57 ? A -3.210502 -1.8277936 -18.21917 1.000 1 A ALA . 1\\nATOM 431 C C . ALA 57 57 ? A -1.9262635 -1.610531 -19.014284 1.000 1 A ALA . 1\\nATOM 432 C CB . ALA 57 57 ? A -2.9091625 -1.8475634 -16.722591 1.000 1 A ALA . 1\\nATOM 433 O O . ALA 57 57 ? A -1.498257 -0.47146964 -19.215092 1.000 1 A ALA . 1\\nATOM 434 N N . SER 58 58 ? A -1.3438755 -2.6295633 -19.62074 1.000 1 A SER . 1\\nATOM 435 C CA . SER 58 58 ? A -0.13604765 -2.530509 -20.433626 1.000 1 A SER . 1\\nATOM 436 C C . SER 58 58 ? A -0.43582666 -1.9154966 -21.796534 1.000 1 A SER . 1\\nATOM 437 C CB . SER 58 58 ? A 0.50216836 -3.908177 -20.616072 1.000 1 A SER . 1\\nATOM 438 O O . SER 58 58 ? A 0.4791841 -1.5014699 -22.511417 1.000 1 A SER . 1\\nATOM 439 O OG . SER 58 58 ? A -0.41192687 -4.8106813 -21.214863 1.000 1 A SER .\\n1\\nATOM 440 N N . LYS 59 59 ? A -1.6455717 -1.7739487 -22.337309 1.000 1 A LYS . 1\\nATOM 441 C CA . LYS 59 59 ? A -1.9954802 -1.2428821 -23.65156 1.000 1 A LYS . 1\\nATOM 442 C C . LYS 59 59 ? A -2.0733948 0.2809106 -23.625826 1.000 1 A LYS . 1\\nATOM 443 C CB . LYS 59 59 ? A -3.325165 -1.8275448 -24.130342 1.000 1 A LYS . 1\\nATOM 444 O O . LYS 59 59 ? A -1.5624666 0.949162 -24.526999 1.000 1 A LYS . 1\\nATOM 445 C CG . LYS 59 59 ? A -3.239612 -3.2819624 -24.56922 1.000 1 A LYS . 1\\nATOM 446 C CD . LYS 59 59 ? A -4.5654054 -3.7739024 -25.135468 1.000 1 A LYS . 1\\nATOM 447 C CE . LYS 59 59 ? A -4.494546 -5.2423415 -25.532106 1.000 1 A LYS . 1\\nATOM 448 N NZ . LYS 59 59 ? A -5.7962923 -5.7327733 -26.075815 1.000 1 A LYS . 1\\n#\\n#\\nloop_\\n_atom_type.symbol\\nC\\nN\\nO\\nS\\n#\\n\",\"mmcif\");\n\tviewer_17251151395716748.addModel(\"2OP8\");\n\tviewer_17251151395716748.setStyle({\"chain\": \"A\"},{\"cartoon\": {\"color\": \"spectrum\"}});\n\tviewer_17251151395716748.zoomTo();\nviewer_17251151395716748.render();\n})\n});\n</script>",
      "text/html": [
       "<div id=\"3dmolviewer_17251151395716748\"  style=\"position: relative; width: 640px; height: 480px;\">\n",
       "        <p id=\"3dmolwarning_17251151395716748\" style=\"background-color:#ffcccc;color:black\">3Dmol.js failed to load for some reason.  Please check your browser console for error messages.<br></p>\n",
       "        </div>\n",
       "<script>\n",
       "\n",
       "var loadScriptAsync = function(uri){\n",
       "  return new Promise((resolve, reject) => {\n",
       "    //this is to ignore the existence of requirejs amd\n",
       "    var savedexports, savedmodule;\n",
       "    if (typeof exports !== 'undefined') savedexports = exports;\n",
       "    else exports = {}\n",
       "    if (typeof module !== 'undefined') savedmodule = module;\n",
       "    else module = {}\n",
       "\n",
       "    var tag = document.createElement('script');\n",
       "    tag.src = uri;\n",
       "    tag.async = true;\n",
       "    tag.onload = () => {\n",
       "        exports = savedexports;\n",
       "        module = savedmodule;\n",
       "        resolve();\n",
       "    };\n",
       "  var firstScriptTag = document.getElementsByTagName('script')[0];\n",
       "  firstScriptTag.parentNode.insertBefore(tag, firstScriptTag);\n",
       "});\n",
       "};\n",
       "\n",
       "if(typeof $3Dmolpromise === 'undefined') {\n",
       "$3Dmolpromise = null;\n",
       "  $3Dmolpromise = loadScriptAsync('https://cdnjs.cloudflare.com/ajax/libs/3Dmol/2.3.0/3Dmol-min.js');\n",
       "}\n",
       "\n",
       "var viewer_17251151395716748 = null;\n",
       "var warn = document.getElementById(\"3dmolwarning_17251151395716748\");\n",
       "if(warn) {\n",
       "    warn.parentNode.removeChild(warn);\n",
       "}\n",
       "$3Dmolpromise.then(function() {\n",
       "viewer_17251151395716748 = $3Dmol.createViewer(document.getElementById(\"3dmolviewer_17251151395716748\"),{backgroundColor:\"white\"});\n",
       "$3Dmol.download(\"2OP8\", viewer_17251151395716748, {}, function() {\n",
       "viewer_17251151395716748.zoomTo();\n",
       "\tviewer_17251151395716748.addModel(\"data_model\\n_entry.id model\\n_struct.entry_id model\\n_struct.pdbx_model_details .\\n_struct.pdbx_structure_determination_methodology computational\\n_struct.title 'AlphaFold prediction'\\n_audit_conform.dict_location https://raw.githubusercontent.com/ihmwg/ModelCIF/d18ba38/base/mmcif_ma-core.dic\\n_audit_conform.dict_name mmcif_ma.dic\\n_audit_conform.dict_version 1.4.6\\n#\\nloop_\\n_chem_comp.id\\n_chem_comp.type\\n_chem_comp.name\\n_chem_comp.formula\\n_chem_comp.formula_weight\\n_chem_comp.ma_provenance\\nALA 'L-peptide linking' ALANINE 'C3 H7 N O2' 89.094 'CCD Core'\\nARG 'L-peptide linking' ARGININE 'C6 H15 N4 O2 1' 175.212 'CCD Core'\\nASP 'L-peptide linking' 'ASPARTIC ACID' 'C4 H7 N O4' 133.103 'CCD Core'\\nGLN 'L-peptide linking' GLUTAMINE 'C5 H10 N2 O3' 146.146 'CCD Core'\\nGLU 'L-peptide linking' 'GLUTAMIC ACID' 'C5 H9 N O4' 147.130 'CCD Core'\\nGLY 'peptide linking' GLYCINE 'C2 H5 N O2' 75.067 'CCD Core'\\nHIS 'L-peptide linking' HISTIDINE 'C6 H10 N3 O2 1' 156.165 'CCD Core'\\nILE 'L-peptide linking' ISOLEUCINE 'C6 H13 N O2' 131.175 'CCD Core'\\nLEU 'L-peptide linking' LEUCINE 'C6 H13 N O2' 131.175 'CCD Core'\\nLYS 'L-peptide linking' LYSINE 'C6 H15 N2 O2 1' 147.198 'CCD Core'\\nMET 'L-peptide linking' METHIONINE 'C5 H11 N O2 S' 149.208 'CCD Core'\\nPHE 'L-peptide linking' PHENYLALANINE 'C9 H11 N O2' 165.192 'CCD Core'\\nPRO 'L-peptide linking' PROLINE 'C5 H9 N O2' 115.132 'CCD Core'\\nSER 'L-peptide linking' SERINE 'C3 H7 N O3' 105.093 'CCD Core'\\nTHR 'L-peptide linking' THREONINE 'C4 H9 N O3' 119.120 'CCD Core'\\nVAL 'L-peptide linking' VALINE 'C5 H11 N O2' 117.148 'CCD Core'\\n#\\n#\\nloop_\\n_entity.id\\n_entity.type\\n_entity.src_method\\n_entity.pdbx_description\\n_entity.formula_weight\\n_entity.pdbx_number_of_molecules\\n_entity.details\\n1 polymer man 'Model subunit' 7453.286 1 .\\n#\\n#\\nloop_\\n_entity_poly.entity_id\\n_entity_poly.type\\n_entity_poly.nstd_linkage\\n_entity_poly.nstd_monomer\\n_entity_poly.pdbx_strand_id\\n_entity_poly.pdbx_seq_one_letter_code\\n_entity_poly.pdbx_seq_one_letter_code_can\\n1 polypeptide(L) no no A\\nPIAQIHILEGRSDEQKETLIREVSEAISRSLDAPLTSVRVIITEMAKGHFGIGGELASK\\nPIAQIHILEGRSDEQKETLIREVSEAISRSLDAPLTSVRVIITEMAKGHFGIGGELASK\\n#\\n#\\nloop_\\n_entity_poly_seq.entity_id\\n_entity_poly_seq.num\\n_entity_poly_seq.mon_id\\n_entity_poly_seq.hetero\\n1 1 PRO .\\n1 2 ILE .\\n1 3 ALA .\\n1 4 GLN .\\n1 5 ILE .\\n1 6 HIS .\\n1 7 ILE .\\n1 8 LEU .\\n1 9 GLU .\\n1 10 GLY .\\n1 11 ARG .\\n1 12 SER .\\n1 13 ASP .\\n1 14 GLU .\\n1 15 GLN .\\n1 16 LYS .\\n1 17 GLU .\\n1 18 THR .\\n1 19 LEU .\\n1 20 ILE .\\n1 21 ARG .\\n1 22 GLU .\\n1 23 VAL .\\n1 24 SER .\\n1 25 GLU .\\n1 26 ALA .\\n1 27 ILE .\\n1 28 SER .\\n1 29 ARG .\\n1 30 SER .\\n1 31 LEU .\\n1 32 ASP .\\n1 33 ALA .\\n1 34 PRO .\\n1 35 LEU .\\n1 36 THR .\\n1 37 SER .\\n1 38 VAL .\\n1 39 ARG .\\n1 40 VAL .\\n1 41 ILE .\\n1 42 ILE .\\n1 43 THR .\\n1 44 GLU .\\n1 45 MET .\\n1 46 ALA .\\n1 47 LYS .\\n1 48 GLY .\\n1 49 HIS .\\n1 50 PHE .\\n1 51 GLY .\\n1 52 ILE .\\n1 53 GLY .\\n1 54 GLY .\\n1 55 GLU .\\n1 56 LEU .\\n1 57 ALA .\\n1 58 SER .\\n1 59 LYS .\\n#\\n#\\nloop_\\n_struct_asym.id\\n_struct_asym.entity_id\\n_struct_asym.details\\nA 1 'Model subunit A'\\n#\\n#\\nloop_\\n_pdbx_poly_seq_scheme.asym_id\\n_pdbx_poly_seq_scheme.entity_id\\n_pdbx_poly_seq_scheme.seq_id\\n_pdbx_poly_seq_scheme.mon_id\\n_pdbx_poly_seq_scheme.pdb_seq_num\\n_pdbx_poly_seq_scheme.auth_seq_num\\n_pdbx_poly_seq_scheme.pdb_mon_id\\n_pdbx_poly_seq_scheme.auth_mon_id\\n_pdbx_poly_seq_scheme.pdb_strand_id\\n_pdbx_poly_seq_scheme.pdb_ins_code\\nA 1 1 PRO 1 1 PRO PRO A .\\nA 1 2 ILE 2 2 ILE ILE A .\\nA 1 3 ALA 3 3 ALA ALA A .\\nA 1 4 GLN 4 4 GLN GLN A .\\nA 1 5 ILE 5 5 ILE ILE A .\\nA 1 6 HIS 6 6 HIS HIS A .\\nA 1 7 ILE 7 7 ILE ILE A .\\nA 1 8 LEU 8 8 LEU LEU A .\\nA 1 9 GLU 9 9 GLU GLU A .\\nA 1 10 GLY 10 10 GLY GLY A .\\nA 1 11 ARG 11 11 ARG ARG A .\\nA 1 12 SER 12 12 SER SER A .\\nA 1 13 ASP 13 13 ASP ASP A .\\nA 1 14 GLU 14 14 GLU GLU A .\\nA 1 15 GLN 15 15 GLN GLN A .\\nA 1 16 LYS 16 16 LYS LYS A .\\nA 1 17 GLU 17 17 GLU GLU A .\\nA 1 18 THR 18 18 THR THR A .\\nA 1 19 LEU 19 19 LEU LEU A .\\nA 1 20 ILE 20 20 ILE ILE A .\\nA 1 21 ARG 21 21 ARG ARG A .\\nA 1 22 GLU 22 22 GLU GLU A .\\nA 1 23 VAL 23 23 VAL VAL A .\\nA 1 24 SER 24 24 SER SER A .\\nA 1 25 GLU 25 25 GLU GLU A .\\nA 1 26 ALA 26 26 ALA ALA A .\\nA 1 27 ILE 27 27 ILE ILE A .\\nA 1 28 SER 28 28 SER SER A .\\nA 1 29 ARG 29 29 ARG ARG A .\\nA 1 30 SER 30 30 SER SER A .\\nA 1 31 LEU 31 31 LEU LEU A .\\nA 1 32 ASP 32 32 ASP ASP A .\\nA 1 33 ALA 33 33 ALA ALA A .\\nA 1 34 PRO 34 34 PRO PRO A .\\nA 1 35 LEU 35 35 LEU LEU A .\\nA 1 36 THR 36 36 THR THR A .\\nA 1 37 SER 37 37 SER SER A .\\nA 1 38 VAL 38 38 VAL VAL A .\\nA 1 39 ARG 39 39 ARG ARG A .\\nA 1 40 VAL 40 40 VAL VAL A .\\nA 1 41 ILE 41 41 ILE ILE A .\\nA 1 42 ILE 42 42 ILE ILE A .\\nA 1 43 THR 43 43 THR THR A .\\nA 1 44 GLU 44 44 GLU GLU A .\\nA 1 45 MET 45 45 MET MET A .\\nA 1 46 ALA 46 46 ALA ALA A .\\nA 1 47 LYS 47 47 LYS LYS A .\\nA 1 48 GLY 48 48 GLY GLY A .\\nA 1 49 HIS 49 49 HIS HIS A .\\nA 1 50 PHE 50 50 PHE PHE A .\\nA 1 51 GLY 51 51 GLY GLY A .\\nA 1 52 ILE 52 52 ILE ILE A .\\nA 1 53 GLY 53 53 GLY GLY A .\\nA 1 54 GLY 54 54 GLY GLY A .\\nA 1 55 GLU 55 55 GLU GLU A .\\nA 1 56 LEU 56 56 LEU LEU A .\\nA 1 57 ALA 57 57 ALA ALA A .\\nA 1 58 SER 58 58 SER SER A .\\nA 1 59 LYS 59 59 LYS LYS A .\\n#\\n#\\nloop_\\n_ma_data.id\\n_ma_data.name\\n_ma_data.content_type\\n_ma_data.content_type_other_details\\n1 'Model subunit' target .\\n2 Model 'model coordinates' .\\n#\\n#\\nloop_\\n_ma_target_entity.entity_id\\n_ma_target_entity.data_id\\n_ma_target_entity.origin\\n1 1 designed\\n#\\n#\\nloop_\\n_ma_target_entity_instance.asym_id\\n_ma_target_entity_instance.entity_id\\n_ma_target_entity_instance.details\\nA 1 'Model subunit A'\\n#\\n#\\nloop_\\n_ma_model_list.ordinal_id\\n_ma_model_list.model_id\\n_ma_model_list.model_group_id\\n_ma_model_list.model_name\\n_ma_model_list.model_group_name\\n_ma_model_list.data_id\\n_ma_model_list.model_type\\n_ma_model_list.model_type_other_details\\n1 1 1 Model 'All models' 2 'Ab initio model' .\\n#\\n#\\nloop_\\n_atom_site.group_PDB\\n_atom_site.id\\n_atom_site.type_symbol\\n_atom_site.label_atom_id\\n_atom_site.label_alt_id\\n_atom_site.label_comp_id\\n_atom_site.label_seq_id\\n_atom_site.auth_seq_id\\n_atom_site.pdbx_PDB_ins_code\\n_atom_site.label_asym_id\\n_atom_site.Cartn_x\\n_atom_site.Cartn_y\\n_atom_site.Cartn_z\\n_atom_site.occupancy\\n_atom_site.label_entity_id\\n_atom_site.auth_asym_id\\n_atom_site.auth_comp_id\\n_atom_site.B_iso_or_equiv\\n_atom_site.pdbx_PDB_model_num\\nATOM 1 N N . PRO 1 1 ? A -3.7910223 -3.5819726 12.850169 1.000 1 A PRO . 1\\nATOM 2 C CA . PRO 1 1 ? A -4.417798 -3.4763193 11.530493 1.000 1 A PRO . 1\\nATOM 3 C C . PRO 1 1 ? A -3.4621496 -3.8303819 10.393345 1.000 1 A PRO . 1\\nATOM 4 C CB . PRO 1 1 ? A -4.8350115 -2.0054243 11.45508 1.000 1 A PRO . 1\\nATOM 5 O O . PRO 1 1 ? A -2.2437 -3.71279 10.546805 1.000 1 A PRO . 1\\nATOM 6 C CG . PRO 1 1 ? A -4.787374 -1.5218912 12.868543 1.000 1 A PRO . 1\\nATOM 7 C CD . PRO 1 1 ? A -3.8795495 -2.426223 13.651706 1.000 1 A PRO . 1\\nATOM 8 N N . ILE 2 2 ? A -4.1563625 -4.667596 9.489806 1.000 1 A ILE . 1\\nATOM 9 C CA . ILE 2 2 ? A -3.3916717 -5.0541263 8.309119 1.000 1 A ILE . 1\\nATOM 10 C C . ILE 2 2 ? A -3.9041631 -4.291049 7.089777 1.000 1 A ILE . 1\\nATOM 11 C CB . ILE 2 2 ? A -3.4684985 -6.577065 8.05958 1.000 1 A ILE . 1\\nATOM 12 O O . ILE 2 2 ? A -5.1079884 -4.2718654 6.822551 1.000 1 A ILE . 1\\nATOM 13 C CG1 . ILE 2 2 ? A -2.8842826 -7.3436613 9.251699 1.000 1 A ILE . 1\\nATOM 14 C CG2 . ILE 2 2 ? A -2.7453237 -6.9487762 6.761783 1.000 1 A ILE . 1\\nATOM 15 C CD1 . ILE 2 2 ? A -3.0801768 -8.8515215 9.174072 1.000 1 A ILE . 1\\nATOM 16 N N . ALA 3 3 ? A -3.050526 -3.5631504 6.300124 1.000 1 A ALA . 1\\nATOM 17 C CA . ALA 3 3 ? A -3.3716698 -2.9033418 5.037225 1.000 1 A ALA . 1\\nATOM 18 C C . ALA 3 3 ? A -2.8396144 -3.701622 3.8504877 1.000 1 A ALA . 1\\nATOM 19 C CB . ALA 3 3 ? A -2.8047214 -1.4858966 5.018168 1.000 1 A ALA . 1\\nATOM 20 O O . ALA 3 3 ? A -1.6681924 -4.086666 3.8284366 1.000 1 A ALA . 1\\nATOM 21 N N . GLN 4 4 ? A -3.779627 -4.0892177 2.9981384 1.000 1 A GLN . 1\\nATOM 22 C CA . GLN 4 4 ? A -3.4156165 -4.7484226 1.7483606 1.000 1 A GLN . 1\\nATOM 23 C C . GLN 4 4 ? A -3.5279021 -3.7887526 0.5672152 1.000 1 A GLN . 1\\nATOM 24 C CB . GLN 4 4 ? A -4.296009 -5.976655 1.5124105 1.000 1 A GLN . 1\\nATOM 25 O O . GLN 4 4 ? A -4.610878 -3.275412 0.27848095 1.000 1 A GLN . 1\\nATOM 26 C CG . GLN 4 4 ? A -4.103109 -7.0791154 2.5449061 1.000 1 A GLN . 1\\nATOM 27 C CD . GLN 4 4 ? A -4.890332 -8.334093 2.2176692 1.000 1 A GLN . 1\\nATOM 28 N NE2 . GLN 4 4 ? A -4.698989 -9.379079 3.0156457 1.000 1 A GLN . 1\\nATOM 29 O OE1 . GLN 4 4 ? A -5.6648617 -8.363946 1.2560194 1.000 1 A GLN . 1\\nATOM 30 N N . ILE 5 5 ? A -2.297773 -3.4720109 -0.05380678 1.000 1 A ILE . 1\\nATOM 31 C CA . ILE 5 5 ? A -2.220917 -2.5226543 -1.1587933 1.000 1 A ILE . 1\\nATOM 32 C C . ILE 5 5 ? A -1.8228223 -3.2526407 -2.439563 1.000 1 A ILE . 1\\nATOM 33 C CB . ILE 5 5 ? A -1.2203343 -1.3844264 -0.8574836 1.000 1 A ILE . 1\\nATOM 34 O O . ILE 5 5 ? A -0.8260136 -3.978429 -2.463603 1.000 1 A ILE . 1\\nATOM 35 C CG1 . ILE 5 5 ? A -1.6026274 -0.6675992 0.44256926 1.000 1 A ILE . 1\\nATOM 36 C CG2 . ILE 5 5 ? A -1.1553414 -0.3987074 -2.0277665 1.000 1 A ILE . 1\\nATOM 37 C CD1 . ILE 5 5 ? A -0.54908526 0.31120932 0.9425955 1.000 1 A ILE . 1\\nATOM 38 N N . HIS 6 6 ? A -2.7119474 -3.040656 -3.3126373 1.000 1 A HIS . 1\\nATOM 39 C CA . HIS 6 6 ? A -2.4469252 -3.594019 -4.635846 1.000 1 A HIS . 1\\nATOM 40 C C . HIS 6 6 ? A -1.9911729 -2.5089798 -5.605694 1.000 1 A HIS . 1\\nATOM 41 C CB . HIS 6 6 ? A -3.691142 -4.2970715 -5.18157 1.000 1 A HIS . 1\\nATOM 42 O O . HIS 6 6 ? A -2.7083154 -1.5317233 -5.8321238 1.000 1 A HIS . 1\\nATOM 43 C CG . HIS 6 6 ? A -4.2679124 -5.309615 -4.2440243 1.000 1 A HIS . 1\\nATOM 44 C CD2 . HIS 6 6 ? A -5.319149 -5.2369614 -3.3940864 1.000 1 A HIS . 1\\nATOM 45 N ND1 . HIS 6 6 ? A -3.7479134 -6.578531 -4.107674 1.000 1 A HIS . 1\\nATOM 46 C CE1 . HIS 6 6 ? A -4.4575763 -7.2446632 -3.2121706 1.000 1 A HIS . 1\\nATOM 47 N NE2 . HIS 6 6 ? A -5.4168377 -6.453071 -2.763931 1.000 1 A HIS . 1\\nATOM 48 N N . ILE 7 7 ? A -0.7370508 -2.6472855 -6.1290827 1.000 1 A ILE . 1\\nATOM 49 C CA . ILE 7 7 ? A -0.21258685 -1.6403036 -7.0451093 1.000 1 A ILE . 1\\nATOM 50 C C . ILE 7 7 ? A 0.40525946 -2.3227592 -8.263407 1.000 1 A ILE . 1\\nATOM 51 C CB . ILE 7 7 ? A 0.82971454 -0.7341227 -6.3523183 1.000 1 A ILE . 1\\nATOM 52 O O . ILE 7 7 ? A 0.73871183 -3.509139 -8.215598 1.000 1 A ILE . 1\\nATOM 53 C CG1 . ILE 7 7 ? A 2.0195236 -1.5671184 -5.8618097 1.000 1 A ILE . 1\\nATOM 54 C CG2 . ILE 7 7 ? A 0.18914008 0.03965789 -5.19631 1.000 1 A ILE . 1\\nATOM 55 C CD1 . ILE 7 7 ? A 3.1776102 -0.7366125 -5.3259563 1.000 1 A ILE . 1\\nATOM 56 N N . LEU 8 8 ? A 0.45037264 -1.6638894 -9.357949 1.000 1 A LEU . 1\\nATOM 57 C CA . LEU 8 8 ? A 1.121574 -2.1519608 -10.557718 1.000 1 A LEU . 1\\nATOM 58 C C . LEU 8 8 ? A 2.6311312 -2.212023 -10.349736 1.000 1 A LEU . 1\\nATOM 59 C CB . LEU 8 8 ? A 0.79497236 -1.2572634 -11.756326 1.000 1 A LEU . 1\\nATOM 60 O O . LEU 8 8 ? A 3.197531 -1.3797289 -9.637646 1.000 1 A LEU . 1\\nATOM 61 C CG . LEU 8 8 ? A -0.6482417 -1.2999668 -12.2609415 1.000 1 A LEU . 1\\nATOM 62 C CD1 . LEU 8 8 ? A -0.8745483 -0.21805632 -13.311683 1.000 1 A LEU . 1\\nATOM 63 C CD2 . LEU 8 8 ? A -0.97710484 -2.6778572 -12.825362 1.000 1 A LEU . 1\\nATOM 64 N N . GLU 9 9 ? A 3.2251205 -3.1502268 -10.972068 1.000 1 A GLU . 1\\nATOM 65 C CA . GLU 9 9 ? A 4.676924 -3.286878 -10.903535 1.000 1 A GLU . 1\\nATOM 66 C C . GLU 9 9 ? A 5.374775 -2.0609906 -11.485669 1.000 1 A GLU . 1\\nATOM 67 C CB . GLU 9 9 ? A 5.133523 -4.550206 -11.637704 1.000 1 A GLU . 1\\nATOM 68 O O . GLU 9 9 ? A 4.816125 -1.3691752 -12.339497 1.000 1 A GLU . 1\\nATOM 69 C CG . GLU 9 9 ? A 4.807311 -5.841346 -10.901204 1.000 1 A GLU . 1\\nATOM 70 C CD . GLU 9 9 ? A 5.2712493 -7.086875 -11.639462 1.000 1 A GLU . 1\\nATOM 71 O OE1 . GLU 9 9 ? A 5.199743 -8.196044 -11.063178 1.000 1 A GLU . 1\\nATOM 72 O OE2 . GLU 9 9 ? A 5.7107396 -6.9523263 -12.803285 1.000 1 A GLU . 1\\nATOM 73 N N . GLY 10 10 ? A 6.5384784 -1.6341558 -10.976784 1.000 1 A GLY . 1\\nATOM 74 C CA . GLY 10 10 ? A 7.319095 -0.5629851 -11.575103 1.000 1 A GLY . 1\\nATOM 75 C C . GLY 10 10 ? A 7.7016816 0.52112335 -10.585341 1.000 1 A GLY . 1\\nATOM 76 O O . GLY 10 10 ? A 8.432918 1.4523724 -10.928548 1.000 1 A GLY . 1\\nATOM 77 N N . ARG 11 11 ? A 7.2879534 0.39451748 -9.327801 1.000 1 A ARG . 1\\nATOM 78 C CA . ARG 11 11 ? A 7.6623197 1.3758204 -8.31463 1.000 1 A ARG . 1\\nATOM 79 C C . ARG 11 11 ? A 8.987025 1.0051011 -7.656337 1.000 1 A ARG . 1\\nATOM 80 C CB . ARG 11 11 ? A 6.5663404 1.4987171 -7.2538424 1.000 1 A ARG . 1\\nATOM 81 O O . ARG 11 11 ? A 9.277437 -0.17605793 -7.4557247 1.000 1 A ARG . 1\\nATOM 82 C CG . ARG 11 11 ? A 5.1906176 1.8079783 -7.822439 1.000 1 A ARG . 1\\nATOM 83 C CD . ARG 11 11 ? A 5.171073 3.1403623 -8.558555 1.000 1 A ARG . 1\\nATOM 84 N NE . ARG 11 11 ? A 3.8417215 3.4502993 -9.076953 1.000 1 A ARG . 1\\nATOM 85 N NH1 . ARG 11 11 ? A 4.491387 5.3791156 -10.169951 1.000 1 A ARG . 1\\nATOM 86 N NH2 . ARG 11 11 ? A 2.30568 4.692615 -10.248193 1.000 1 A ARG . 1\\nATOM 87 C CZ . ARG 11 11 ? A 3.5492976 4.5066357 -9.830516 1.000 1 A ARG . 1\\nATOM 88 N N . SER 12 12 ? A 9.915732 2.0329108 -7.40684 1.000 1 A SER . 1\\nATOM 89 C CA . SER 12 12 ? A 11.202474 1.7797725 -6.766791 1.000 1 A SER . 1\\nATOM 90 C C . SER 12 12 ? A 11.020556 1.2950201 -5.3323755 1.000 1 A SER . 1\\nATOM 91 C CB . SER 12 12 ? A 12.066318 3.0415702 -6.781531 1.000 1 A SER . 1\\nATOM 92 O O . SER 12 12 ? A 9.991431 1.5603449 -4.7076945 1.000 1 A SER . 1\\nATOM 93 O OG . SER 12 12 ? A 11.55275 4.013232 -5.886681 1.000 1 A SER . 1\\nATOM 94 N N . ASP 13 13 ? A 11.952945 0.67398703 -4.8136535 1.000 1 A ASP . 1\\nATOM 95 C CA . ASP 13 13 ? A 11.910553 0.23505874 -3.422174 1.000 1 A ASP . 1\\nATOM 96 C C . ASP 13 13 ? A 11.753495 1.4232719 -2.4760172 1.000 1 A ASP . 1\\nATOM 97 C CB . ASP 13 13 ? A 13.172833 -0.55468017 -3.0697734 1.000 1 A ASP . 1\\nATOM 98 O O . ASP 13 13 ? A 11.066933 1.325431 -1.4568115 1.000 1 A ASP . 1\\nATOM 99 C CG . ASP 13 13 ? A 13.211336 -1.9294155 -3.713726 1.000 1 A ASP . 1\\nATOM 100 O OD1 . ASP 13 13 ? A 14.301993 -2.534584 -3.7950804 1.000 1 A ASP . 1\\nATOM 101 O OD2 . ASP 13 13 ? A 12.141803 -2.4106457 -4.1463804 1.000 1 A ASP . 1\\nATOM 102 N N . GLU 14 14 ? A 12.322789 2.4549136 -2.807164 1.000 1 A GLU . 1\\nATOM 103 C CA . GLU 14 14 ? A 12.215319 3.6451328 -1.9687524 1.000 1 A GLU . 1\\nATOM 104 C C . GLU 14 14 ? A 10.7774 4.153038 -1.9130809 1.000 1 A GLU . 1\\nATOM 105 C CB . GLU 14 14 ? A 13.143755 4.749364 -2.4807734 1.000 1 A GLU . 1\\nATOM 106 O O . GLU 14 14 ? A 10.293039 4.54604 -0.84975386 1.000 1 A GLU . 1\\nATOM 107 C CG . GLU 14 14 ? A 14.619737 4.4780393 -2.2282834 1.000 1 A GLU . 1\\nATOM 108 C CD . GLU 14 14 ? A 15.191155 3.3891706 -3.1224062 1.000 1 A GLU . 1\\nATOM 109 O OE1 . GLU 14 14 ? A 16.235947 2.7979798 -2.7669063 1.000 1 A GLU . 1\\nATOM 110 O OE2 . GLU 14 14 ? A 14.589702 3.125787 -4.187592 1.000 1 A GLU . 1\\nATOM 111 N N . GLN 15 15 ? A 10.128815 4.120304 -2.9952223 1.000 1 A GLN . 1\\nATOM 112 C CA . GLN 15 15 ? A 8.733167 4.542323 -3.0505757 1.000 1 A GLN . 1\\nATOM 113 C C . GLN 15 15 ? A 7.8438344 3.6105535 -2.2323031 1.000 1 A GLN . 1\\nATOM 114 C CB . GLN 15 15 ? A 8.245041 4.5959654 -4.4990826 1.000 1 A GLN . 1\\nATOM 115 O O . GLN 15 15 ? A 6.941907 4.0662646 -1.5262051 1.000 1 A GLN . 1\\nATOM 116 C CG . GLN 15 15 ? A 8.802957 5.7694545 -5.2930145 1.000 1 A GLN . 1\\nATOM 117 C CD . GLN 15 15 ? A 8.356846 5.7621865 -6.743085 1.000 1 A GLN . 1\\nATOM 118 N NE2 . GLN 15 15 ? A 7.905637 6.91294 -7.230475 1.000 1 A GLN . 1\\nATOM 119 O OE1 . GLN 15 15 ? A 8.418054 4.7309303 -7.4200797 1.000 1 A GLN . 1\\nATOM 120 N N . LYS 16 16 ? A 8.086586 2.3807936 -2.3338456 1.000 1 A LYS . 1\\nATOM 121 C CA . LYS 16 16 ? A 7.316056 1.4041389 -1.5695486 1.000 1 A LYS . 1\\nATOM 122 C C . LYS 16 16 ? A 7.5463176 1.5736568 -0.070575714 1.000 1 A LYS . 1\\nATOM 123 C CB . LYS 16 16 ? A 7.6776958 -0.01892078 -1.9976165 1.000 1 A LYS . 1\\nATOM 124 O O . LYS 16 16 ? A 6.6014075 1.5123492 0.71879536 1.000 1 A LYS . 1\\nATOM 125 C CG . LYS 16 16 ? A 7.2534432 -0.3649434 -3.4173136 1.000 1 A LYS . 1\\nATOM 126 C CD . LYS 16 16 ? A 7.7049437 -1.7657889 -3.8099322 1.000 1 A LYS . 1\\nATOM 127 C CE . LYS 16 16 ? A 7.4742775 -2.0339775 -5.2909875 1.000 1 A LYS . 1\\nATOM 128 N NZ . LYS 16 16 ? A 8.039664 -3.3513165 -5.710083 1.000 1 A LYS . 1\\nATOM 129 N N . GLU 17 17 ? A 8.777291 1.8542325 0.29004347 1.000 1 A GLU . 1\\nATOM 130 C CA . GLU 17 17 ? A 9.094364 2.0673392 1.6989988 1.000 1 A GLU . 1\\nATOM 131 C C . GLU 17 17 ? A 8.384205 3.303306 2.2437341 1.000 1 A GLU . 1\\nATOM 132 C CB . GLU 17 17 ? A 10.606681 2.2000737 1.8958905 1.000 1 A GLU . 1\\nATOM 133 O O . GLU 17 17 ? A 7.8643036 3.2849026 3.3613584 1.000 1 A GLU . 1\\nATOM 134 C CG . GLU 17 17 ? A 11.354786 0.87682724 1.8234566 1.000 1 A GLU . 1\\nATOM 135 C CD . GLU 17 17 ? A 12.8647785 1.0361909 1.9017786 1.000 1 A GLU . 1\\nATOM 136 O OE1 . GLU 17 17 ? A 13.590357 0.027411938 1.7488902 1.000 1 A GLU . 1\\nATOM 137 O OE2 . GLU 17 17 ? A 13.3259735 2.1789722 2.1187758 1.000 1 A GLU . 1\\nATOM 138 N N . THR 18 18 ? A 8.4192 4.3088136 1.4829098 1.000 1 A THR . 1\\nATOM 139 C CA . THR 18 18 ? A 7.727454 5.535141 1.864214 1.000 1 A THR . 1\\nATOM 140 C C . THR 18 18 ? A 6.227507 5.2898865 2.000907 1.000 1 A THR . 1\\nATOM 141 C CB . THR 18 18 ? A 7.975482 6.6579957 0.84000266 1.000 1 A THR . 1\\nATOM 142 O O . THR 18 18 ? A 5.5962787 5.7788553 2.9401512 1.000 1 A THR . 1\\nATOM 143 C CG2 . THR 18 18 ? A 7.2058954 7.921199 1.21157 1.000 1 A THR . 1\\nATOM 144 O OG1 . THR 18 18 ? A 9.375818 6.959397 0.79988736 1.000 1 A THR . 1\\nATOM 145 N N . LEU 19 19 ? A 5.74341 4.6092396 1.1033138 1.000 1 A LEU . 1\\nATOM 146 C CA . LEU 19 19 ? A 4.3250484 4.272932 1.1609312 1.000 1 A LEU . 1\\nATOM 147 C C . LEU 19 19 ? A 4.005208 3.4802494 2.4238582 1.000 1 A LEU . 1\\nATOM 148 C CB . LEU 19 19 ? A 3.9133737 3.4713798 -0.07674801 1.000 1 A LEU . 1\\nATOM 149 O O . LEU 19 19 ? A 3.020423 3.7662766 3.1086812 1.000 1 A LEU . 1\\nATOM 150 C CG . LEU 19 19 ? A 2.4431782 3.0576415 -0.15844142 1.000 1 A LEU . 1\\nATOM 151 C CD1 . LEU 19 19 ? A 1.5477288 4.290953 -0.21243548 1.000 1 A LEU . 1\\nATOM 152 C CD2 . LEU 19 19 ? A 2.2053757 2.1643612 -1.3712087 1.000 1 A LEU . 1\\nATOM 153 N N . ILE 20 20 ? A 4.7689266 2.465529 2.689835 1.000 1 A ILE . 1\\nATOM 154 C CA . ILE 20 20 ? A 4.5796757 1.6528343 3.8864508 1.000 1 A ILE . 1\\nATOM 155 C C . ILE 20 20 ? A 4.621603 2.5427687 5.126607 1.000 1 A ILE . 1\\nATOM 156 C CB . ILE 20 20 ? A 5.647069 0.5403048 3.9887388 1.000 1 A ILE . 1\\nATOM 157 O O . ILE 20 20 ? A 3.7816 2.41293 6.0202007 1.000 1 A ILE . 1\\nATOM 158 C CG1 . ILE 20 20 ? A 5.3987226 -0.537243 2.9269764 1.000 1 A ILE . 1\\nATOM 159 C CG2 . ILE 20 20 ? A 5.659898 -0.06816542 5.3940945 1.000 1 A ILE . 1\\nATOM 160 C CD1 . ILE 20 20 ? A 6.550229 -1.5192662 2.760527 1.000 1 A ILE . 1\\nATOM 161 N N . ARG 21 21 ? A 5.5440397 3.4283934 5.1939893 1.000 1 A ARG . 1\\nATOM 162 C CA . ARG 21 21 ? A 5.696294 4.320293 6.3389587 1.000 1 A ARG . 1\\nATOM 163 C C . ARG 21 21 ? A 4.48487 5.2349577 6.4854736 1.000 1 A ARG . 1\\nATOM 164 C CB . ARG 21 21 ? A 6.9708114 5.156301 6.2039113 1.000 1 A ARG . 1\\nATOM 165 O O . ARG 21 21 ? A 3.9336042 5.3733215 7.5794034 1.000 1 A ARG . 1\\nATOM 166 C CG . ARG 21 21 ? A 7.255967 6.04318 7.4054475 1.000 1 A ARG . 1\\nATOM 167 C CD . ARG 21 21 ? A 8.542001 6.8380594 7.2271867 1.000 1 A ARG . 1\\nATOM 168 N NE . ARG 21 21 ? A 8.489548 7.689437 6.042123 1.000 1 A ARG . 1\\nATOM 169 N NH1 . ARG 21 21 ? A 10.731049 7.4667974 5.5291467 1.000 1 A ARG . 1\\nATOM 170 N NH2 . ARG 21 21 ? A 9.370755 8.755405 4.208613 1.000 1 A ARG . 1\\nATOM 171 C CZ . ARG 21 21 ? A 9.53057 7.9686027 5.262666 1.000 1 A ARG . 1\\nATOM 172 N N . GLU 22 22 ? A 4.1332607 5.773558 5.403609 1.000 1 A GLU . 1\\nATOM 173 C CA . GLU 22 22 ? A 3.048458 6.7493825 5.4491825 1.000 1 A GLU . 1\\nATOM 174 C C . GLU 22 22 ? A 1.7170027 6.079623 5.77679 1.000 1 A GLU . 1\\nATOM 175 C CB . GLU 22 22 ? A 2.9457278 7.501921 4.12004 1.000 1 A GLU . 1\\nATOM 176 O O . GLU 22 22 ? A 0.9271688 6.6077056 6.5622916 1.000 1 A GLU . 1\\nATOM 177 C CG . GLU 22 22 ? A 4.1360974 8.404881 3.8309474 1.000 1 A GLU . 1\\nATOM 178 C CD . GLU 22 22 ? A 4.2702155 9.554814 4.8164806 1.000 1 A GLU . 1\\nATOM 179 O OE1 . GLU 22 22 ? A 5.411302 9.995242 5.0837255 1.000 1 A GLU . 1\\nATOM 180 O OE2 . GLU 22 22 ? A 3.2257686 10.018465 5.3262825 1.000 1 A GLU . 1\\nATOM 181 N N . VAL 23 23 ? A 1.4850245 5.0012574 5.1903315 1.000 1 A VAL . 1\\nATOM 182 C CA . VAL 23 23 ? A 0.24035527 4.2857866 5.451224 1.000 1 A VAL . 1\\nATOM 183 C C . VAL 23 23 ? A 0.20270906 3.8279738 6.9074926 1.000 1 A VAL . 1\\nATOM 184 C CB . VAL 23 23 ? A 0.073566616 3.0740623 4.50709 1.000 1 A VAL . 1\\nATOM 185 O O . VAL 23 23 ? A -0.83152676 3.9326086 7.5711045 1.000 1 A VAL . 1\\nATOM 186 C CG1 . VAL 23 23 ? A -1.0831976 2.1877098 4.965256 1.000 1 A VAL . 1\\nATOM 187 C CG2 . VAL 23 23 ? A -0.1458653 3.5441055 3.070294 1.000 1 A VAL . 1\\nATOM 188 N N . SER 24 24 ? A 1.3015873 3.3190427 7.3644204 1.000 1 A SER . 1\\nATOM 189 C CA . SER 24 24 ? A 1.363863 2.8856943 8.75646 1.000 1 A SER . 1\\nATOM 190 C C . SER 24 24 ? A 1.0618674 4.038268 9.708301 1.000 1 A SER . 1\\nATOM 191 C CB . SER 24 24 ? A 2.7395358 2.2982686 9.074316 1.000 1 A SER . 1\\nATOM 192 O O . SER 24 24 ? A 0.30007732 3.877594 10.664115 1.000 1 A SER . 1\\nATOM 193 O OG . SER 24 24 ? A 2.977205 1.1303991 8.307354 1.000 1 A SER . 1\\nATOM 194 N N . GLU 25 25 ? A 1.7146517 5.2333937 9.599257 1.000 1 A GLU . 1\\nATOM 195 C CA . GLU 25 25 ? A 1.5051813 6.3970633 10.45547 1.000 1 A GLU . 1\\nATOM 196 C C . GLU 25 25 ? A 0.05564487 6.870615 10.398283 1.000 1 A GLU . 1\\nATOM 197 C CB . GLU 25 25 ? A 2.4467402 7.5358176 10.055229 1.000 1 A GLU . 1\\nATOM 198 O O . GLU 25 25 ? A -0.51869255 7.2531934 11.419797 1.000 1 A GLU . 1\\nATOM 199 C CG . GLU 25 25 ? A 3.8895855 7.322152 10.48932 1.000 1 A GLU . 1\\nATOM 200 C CD . GLU 25 25 ? A 4.825785 8.426247 10.024438 1.000 1 A GLU . 1\\nATOM 201 O OE1 . GLU 25 25 ? A 6.034354 8.373125 10.346949 1.000 1 A GLU . 1\\nATOM 202 O OE2 . GLU 25 25 ? A 4.3466043 9.352467 9.332889 1.000 1 A GLU . 1\\nATOM 203 N N . ALA 26 26 ? A -0.54317987 6.787851 9.234485 1.000 1 A ALA . 1\\nATOM 204 C CA . ALA 26 26 ? A -1.9356502 7.197407 9.071127 1.000 1 A ALA . 1\\nATOM 205 C C . ALA 26 26 ? A -2.8711967 6.2887855 9.86349 1.000 1 A ALA . 1\\nATOM 206 C CB . ALA 26 26 ? A -2.3213112 7.1947193 7.593899 1.000 1 A ALA . 1\\nATOM 207 O O . ALA 26 26 ? A -3.7757182 6.767342 10.551821 1.000 1 A ALA . 1\\nATOM 208 N N . ILE 27 27 ? A -2.6742857 4.9413595 9.685369 1.000 1 A ILE . 1\\nATOM 209 C CA . ILE 27 27 ? A -3.490594 3.9614522 10.393606 1.000 1 A ILE . 1\\nATOM 210 C C . ILE 27 27 ? A -3.321774 4.141696 11.900504 1.000 1 A ILE . 1\\nATOM 211 C CB . ILE 27 27 ? A -3.1246293 2.5177484 9.9821415 1.000 1 A ILE . 1\\nATOM 212 O O . ILE 27 27 ? A -4.3025045 4.122649 12.648019 1.000 1 A ILE . 1\\nATOM 213 C CG1 . ILE 27 27 ? A -3.5704007 2.2439125 8.54116 1.000 1 A ILE . 1\\nATOM 214 C CG2 . ILE 27 27 ? A -3.7466617 1.5064259 10.949472 1.000 1 A ILE . 1\\nATOM 215 C CD1 . ILE 27 27 ? A -3.0722435 0.919031 7.980293 1.000 1 A ILE . 1\\nATOM 216 N N . SER 28 28 ? A -2.0716677 4.375054 12.332254 1.000 1 A SER . 1\\nATOM 217 C CA . SER 28 28 ? A -1.7883873 4.586385 13.74807 1.000 1 A SER . 1\\nATOM 218 C C . SER 28 28 ? A -2.5064573 5.823459 14.276888 1.000 1 A SER . 1\\nATOM 219 C CB . SER 28 28 ? A -0.28290272 4.7228456 13.979304 1.000 1 A SER . 1\\nATOM 220 O O . SER 28 28 ? A -3.1322176 5.778303 15.338069 1.000 1 A SER . 1\\nATOM 221 O OG . SER 28 28 ? A -0.005219996 4.982695 15.34459 1.000 1 A SER . 1\\nATOM 222 N N . ARG 29 29 ? A -2.4572744 6.876854 13.589846 1.000 1 A ARG . 1\\nATOM 223 C CA . ARG 29 29 ? A -3.066726 8.13243 14.01613 1.000 1 A ARG . 1\\nATOM 224 C C . ARG 29 29 ? A -4.588498 8.047738 13.964503 1.000 1 A ARG . 1\\nATOM 225 C CB . ARG 29 29 ? A -2.5765636 9.291274 13.145289 1.000 1 A ARG . 1\\nATOM 226 O O . ARG 29 29 ? A -5.2738523 8.543778 14.861139 1.000 1 A ARG . 1\\nATOM 227 C CG . ARG 29 29 ? A -1.136452 9.697759 13.414375 1.000 1 A ARG . 1\\nATOM 228 C CD . ARG 29 29 ? A -0.8075456 11.050209 12.797778 1.000 1 A ARG . 1\\nATOM 229 N NE . ARG 29 29 ? A -1.0271077 11.052191 11.354255 1.000 1 A ARG . 1\\nATOM 230 N NH1 . ARG 29 29 ? A 1.0676837 10.233664 10.82614 1.000 1 A ARG . 1\\nATOM 231 N NH2 . ARG 29 29 ? A -0.4360599 10.706992 9.161979 1.000 1 A ARG . 1\\nATOM 232 C CZ . ARG 29 29 ? A -0.13132668 10.664277 10.450753 1.000 1 A ARG . 1\\nATOM 233 N N . SER 30 30 ? A -5.032467 7.400001 13.027343 1.000 1 A SER . 1\\nATOM 234 C CA . SER 30 30 ? A -6.4667473 7.3857822 12.758864 1.000 1 A SER . 1\\nATOM 235 C C . SER 30 30 ? A -7.1951656 6.4284344 13.6961565 1.000 1 A SER . 1\\nATOM 236 C CB . SER 30 30 ? A -6.7365427 6.99343 11.305645 1.000 1 A SER . 1\\nATOM 237 O O . SER 30 30 ? A -8.3186245 6.7035747 14.122605 1.000 1 A SER . 1\\nATOM 238 O OG . SER 30 30 ? A -6.224391 7.9716425 10.417144 1.000 1 A SER . 1\\nATOM 239 N N . LEU 31 31 ? A -6.5022125 5.35881 13.901943 1.000 1 A LEU . 1\\nATOM 240 C CA . LEU 31 31 ? A -7.155775 4.30057 14.664278 1.000 1 A LEU . 1\\nATOM 241 C C . LEU 31 31 ? A -6.545995 4.1776485 16.056644 1.000 1 A LEU . 1\\nATOM 242 C CB . LEU 31 31 ? A -7.047228 2.963266 13.926955 1.000 1 A LEU . 1\\nATOM 243 O O . LEU 31 31 ? A -6.9661484 3.3328438 16.850603 1.000 1 A LEU . 1\\nATOM 244 C CG . LEU 31 31 ? A -7.745692 2.8791773 12.568867 1.000 1 A LEU . 1\\nATOM 245 C CD1 . LEU 31 31 ? A -7.501042 1.5159031 11.930564 1.000 1 A LEU . 1\\nATOM 246 C CD2 . LEU 31 31 ? A -9.239788 3.1449742 12.718302 1.000 1 A LEU . 1\\nATOM 247 N N . ASP 32 32 ? A -5.7073255 5.112049 16.348791 1.000 1 A ASP . 1\\nATOM 248 C CA . ASP 32 32 ? A -4.996207 5.0743885 17.622982 1.000 1 A ASP . 1\\nATOM 249 C C . ASP 32 32 ? A -4.3929343 3.6943722 17.874676 1.000 1 A ASP . 1\\nATOM 250 C CB . ASP 32 32 ? A -5.9321203 5.456751 18.7715 1.000 1 A ASP . 1\\nATOM 251 O O . ASP 32 32 ? A -4.4539156 3.1789813 18.992878 1.000 1 A ASP . 1\\nATOM 252 C CG . ASP 32 32 ? A -5.1894507 5.918391 20.013025 1.000 1 A ASP . 1\\nATOM 253 O OD1 . ASP 32 32 ? A -5.729918 5.784752 21.132141 1.000 1 A ASP . 1\\nATOM 254 O OD2 . ASP 32 32 ? A -4.0546827 6.423079 19.870663 1.000 1 A ASP . 1\\nATOM 255 N N . ALA 33 33 ? A -3.9462678 3.0736864 16.778423 1.000 1 A ALA . 1\\nATOM 256 C CA . ALA 33 33 ? A -3.2429445 1.7969475 16.87155 1.000 1 A ALA . 1\\nATOM 257 C C . ALA 33 33 ? A -1.7380896 2.0085711 17.010506 1.000 1 A ALA . 1\\nATOM 258 C CB . ALA 33 33 ? A -3.5450208 0.93265575 15.64979 1.000 1 A ALA . 1\\nATOM 259 O O . ALA 33 33 ? A -1.1749402 2.9232059 16.404469 1.000 1 A ALA . 1\\nATOM 260 N N . PRO 34 34 ? A -1.1371076 1.2115964 17.960835 1.000 1 A PRO . 1\\nATOM 261 C CA . PRO 34 34 ? A 0.32299545 1.3142233 18.01674 1.000 1 A PRO . 1\\nATOM 262 C C . PRO 34 34 ? A 0.98776746 1.0079746 16.676584 1.000 1 A PRO . 1\\nATOM 263 C CB . PRO 34 34 ? A 0.7096728 0.27175367 19.068893 1.000 1 A PRO . 1\\nATOM 264 O O . PRO 34 34 ? A 0.59430945 0.061411142 15.99014 1.000 1 A PRO . 1\\nATOM 265 C CG . PRO 34 34 ? A -0.56816506 -0.052296072 19.773218 1.000 1 A PRO .\\n1\\nATOM 266 C CD . PRO 34 34 ? A -1.7102805 0.21001509 18.834032 1.000 1 A PRO . 1\\nATOM 267 N N . LEU 35 35 ? A 1.8926799 1.8150737 16.200758 1.000 1 A LEU . 1\\nATOM 268 C CA . LEU 35 35 ? A 2.5813475 1.668704 14.923072 1.000 1 A LEU . 1\\nATOM 269 C C . LEU 35 35 ? A 3.1727026 0.27018833 14.781367 1.000 1 A LEU . 1\\nATOM 270 C CB . LEU 35 35 ? A 3.6866484 2.7191424 14.786319 1.000 1 A LEU . 1\\nATOM 271 O O . LEU 35 35 ? A 3.1655428 -0.30378264 13.689991 1.000 1 A LEU . 1\\nATOM 272 C CG . LEU 35 35 ? A 4.3114133 2.8691964 13.398342 1.000 1 A LEU . 1\\nATOM 273 C CD1 . LEU 35 35 ? A 3.2626066 3.3311348 12.392152 1.000 1 A LEU . 1\\nATOM 274 C CD2 . LEU 35 35 ? A 5.483744 3.8433907 13.441813 1.000 1 A LEU . 1\\nATOM 275 N N . THR 36 36 ? A 3.5515175 -0.3215735 15.867756 1.000 1 A THR . 1\\nATOM 276 C CA . THR 36 36 ? A 4.2293353 -1.6129127 15.839636 1.000 1 A THR . 1\\nATOM 277 C C . THR 36 36 ? A 3.2384887 -2.737728 15.5538225 1.000 1 A THR . 1\\nATOM 278 C CB . THR 36 36 ? A 4.956634 -1.8911219 17.168156 1.000 1 A THR . 1\\nATOM 279 O O . THR 36 36 ? A 3.6396952 -3.8668694 15.264352 1.000 1 A THR . 1\\nATOM 280 C CG2 . THR 36 36 ? A 6.1110916 -0.9167876 17.3777 1.000 1 A THR . 1\\nATOM 281 O OG1 . THR 36 36 ? A 4.0287523 -1.755335 18.251663 1.000 1 A THR . 1\\nATOM 282 N N . SER 37 37 ? A 1.985895 -2.4278772 15.607217 1.000 1 A SER . 1\\nATOM 283 C CA . SER 37 37 ? A 0.96117496 -3.4448676 15.394798 1.000 1 A SER . 1\\nATOM 284 C C . SER 37 37 ? A 0.40563303 -3.3820026 13.975979 1.000 1 A SER . 1\\nATOM 285 C CB . SER 37 37 ? A -0.17578578 -3.279693 16.404062 1.000 1 A SER . 1\\nATOM 286 O O . SER 37 37 ? A -0.33665133 -4.2713723 13.554367 1.000 1 A SER . 1\\nATOM 287 O OG . SER 37 37 ? A -0.909712 -2.0951395 16.145563 1.000 1 A SER . 1\\nATOM 288 N N . VAL 38 38 ? A 0.91416895 -2.3367355 13.18931 1.000 1 A VAL . 1\\nATOM 289 C CA . VAL 38 38 ? A 0.39381328 -2.1553237 11.838205 1.000 1 A VAL . 1\\nATOM 290 C C . VAL 38 38 ? A 1.2485279 -2.9398508 10.845377 1.000 1 A VAL . 1\\nATOM 291 C CB . VAL 38 38 ? A 0.35154167 -0.6624539 11.441928 1.000 1 A VAL . 1\\nATOM 292 O O . VAL 38 38 ? A 2.4770045 -2.8314013 10.852918 1.000 1 A VAL . 1\\nATOM 293 C CG1 . VAL 38 38 ? A -0.090706736 -0.5018571 9.9885645 1.000 1 A VAL .\\n1\\nATOM 294 C CG2 . VAL 38 38 ? A -0.57834554 0.11063254 12.375266 1.000 1 A VAL .\\n1\\nATOM 295 N N . ARG 39 39 ? A 0.5471624 -3.7901802 10.090965 1.000 1 A ARG . 1\\nATOM 296 C CA . ARG 39 39 ? A 1.2197958 -4.502391 9.009327 1.000 1 A ARG . 1\\nATOM 297 C C . ARG 39 39 ? A 0.74736375 -4.003134 7.6480126 1.000 1 A ARG . 1\\nATOM 298 C CB . ARG 39 39 ? A 0.9803972 -6.009186 9.126803 1.000 1 A ARG . 1\\nATOM 299 O O . ARG 39 39 ? A -0.4559428 -3.938701 7.387969 1.000 1 A ARG . 1\\nATOM 300 C CG . ARG 39 39 ? A 1.475621 -6.6116877 10.43191 1.000 1 A ARG . 1\\nATOM 301 C CD . ARG 39 39 ? A 2.9873354 -6.495689 10.56887 1.000 1 A ARG . 1\\nATOM 302 N NE . ARG 39 39 ? A 3.4717548 -7.159844 11.775604 1.000 1 A ARG . 1\\nATOM 303 N NH1 . ARG 39 39 ? A 3.6852725 -5.217586 13.008117 1.000 1 A ARG . 1\\nATOM 304 N NH2 . ARG 39 39 ? A 4.222867 -7.239697 13.944481 1.000 1 A ARG . 1\\nATOM 305 C CZ . ARG 39 39 ? A 3.7921922 -6.537526 12.906646 1.000 1 A ARG . 1\\nATOM 306 N N . VAL 40 40 ? A 1.6817062 -3.6264246 6.7545943 1.000 1 A VAL . 1\\nATOM 307 C CA . VAL 40 40 ? A 1.3720323 -3.2051609 5.3923154 1.000 1 A VAL . 1\\nATOM 308 C C . VAL 40 40 ? A 1.9189942 -4.2270975 4.3982296 1.000 1 A VAL . 1\\nATOM 309 C CB . VAL 40 40 ? A 1.9470907 -1.8038994 5.086935 1.000 1 A VAL . 1\\nATOM 310 O O . VAL 40 40 ? A 3.0989234 -4.582233 4.4494057 1.000 1 A VAL . 1\\nATOM 311 C CG1 . VAL 40 40 ? A 1.5950077 -1.3740783 3.6639338 1.000 1 A VAL . 1\\nATOM 312 C CG2 . VAL 40 40 ? A 1.4309063 -0.7835877 6.099847 1.000 1 A VAL . 1\\nATOM 313 N N . ILE 41 41 ? A 1.058402 -4.82796 3.5680494 1.000 1 A ILE . 1\\nATOM 314 C CA . ILE 41 41 ? A 1.4293153 -5.7993565 2.544824 1.000 1 A ILE . 1\\nATOM 315 C C . ILE 41 41 ? A 1.202203 -5.200778 1.1585149 1.000 1 A ILE . 1\\nATOM 316 C CB . ILE 41 41 ? A 0.6321269 -7.1140795 2.6981509 1.000 1 A ILE . 1\\nATOM 317 O O . ILE 41 41 ? A 0.081044436 -4.816494 0.81748265 1.000 1 A ILE . 1\\nATOM 318 C CG1 . ILE 41 41 ? A 0.8335642 -7.7003 4.100254 1.000 1 A ILE . 1\\nATOM 319 C CG2 . ILE 41 41 ? A 1.0398612 -8.121768 1.6193818 1.000 1 A ILE . 1\\nATOM 320 C CD1 . ILE 41 41 ? A -0.12943077 -8.828446 4.44372 1.000 1 A ILE . 1\\nATOM 321 N N . ILE 42 42 ? A 2.2838466 -5.043977 0.4439336 1.000 1 A ILE . 1\\nATOM 322 C CA . ILE 42 42 ? A 2.18454 -4.5539064 -0.9265226 1.000 1 A ILE . 1\\nATOM 323 C C . ILE 42 42 ? A 2.2344642 -5.7294564 -1.8998274 1.000 1 A ILE . 1\\nATOM 324 C CB . ILE 42 42 ? A 3.3084066 -3.5435104 -1.248302 1.000 1 A ILE . 1\\nATOM 325 O O . ILE 42 42 ? A 3.1569397 -6.546448 -1.8494442 1.000 1 A ILE . 1\\nATOM 326 C CG1 . ILE 42 42 ? A 3.2258992 -2.3356256 -0.30791086 1.000 1 A ILE .\\n1\\nATOM 327 C CG2 . ILE 42 42 ? A 3.235456 -3.103115 -2.7132795 1.000 1 A ILE . 1\\nATOM 328 C CD1 . ILE 42 42 ? A 4.358073 -1.3334935 -0.48667848 1.000 1 A ILE . 1\\nATOM 329 N N . THR 43 43 ? A 1.2044846 -5.897832 -2.6890466 1.000 1 A THR . 1\\nATOM 330 C CA . THR 43 43 ? A 1.160227 -6.8836093 -3.7633238 1.000 1 A THR . 1\\nATOM 331 C C . THR 43 43 ? A 1.3017215 -6.207446 -5.124008 1.000 1 A THR . 1\\nATOM 332 C CB . THR 43 43 ? A -0.14819396 -7.6946573 -3.7237248 1.000 1 A THR .\\n1\\nATOM 333 O O . THR 43 43 ? A 0.47739857 -5.3693933 -5.495332 1.000 1 A THR . 1\\nATOM 334 C CG2 . THR 43 43 ? A -0.14410004 -8.79699 -4.7776966 1.000 1 A THR . 1\\nATOM 335 O OG1 . THR 43 43 ? A -0.29648644 -8.288334 -2.4279807 1.000 1 A THR .\\n1\\nATOM 336 N N . GLU 44 44 ? A 2.3328013 -6.4700484 -5.7948685 1.000 1 A GLU . 1\\nATOM 337 C CA . GLU 44 44 ? A 2.5859334 -5.88427 -7.10784 1.000 1 A GLU . 1\\nATOM 338 C C . GLU 44 44 ? A 1.9922968 -6.744479 -8.219737 1.000 1 A GLU . 1\\nATOM 339 C CB . GLU 44 44 ? A 4.088581 -5.697365 -7.3327956 1.000 1 A GLU . 1\\nATOM 340 O O . GLU 44 44 ? A 2.1636095 -7.9652724 -8.225886 1.000 1 A GLU . 1\\nATOM 341 C CG . GLU 44 44 ? A 4.7288857 -4.6820917 -6.397316 1.000 1 A GLU . 1\\nATOM 342 C CD . GLU 44 44 ? A 6.2056174 -4.4547706 -6.678741 1.000 1 A GLU . 1\\nATOM 343 O OE1 . GLU 44 44 ? A 6.547219 -3.4664886 -7.3672776 1.000 1 A GLU . 1\\nATOM 344 O OE2 . GLU 44 44 ? A 7.0276318 -5.2721634 -6.2076774 1.000 1 A GLU . 1\\nATOM 345 N N . MET 45 45 ? A 1.2543395 -6.0417604 -9.085999 1.000 1 A MET . 1\\nATOM 346 C CA . MET 45 45 ? A 0.6379863 -6.7006345 -10.234011 1.000 1 A MET . 1\\nATOM 347 C C . MET 45 45 ? A 1.3048172 -6.2646337 -11.534344 1.000 1 A MET . 1\\nATOM 348 C CB . MET 45 45 ? A -0.8605032 -6.3982224 -10.287699 1.000 1 A MET . 1\\nATOM 349 O O . MET 45 45 ? A 1.515346 -5.0715137 -11.759315 1.000 1 A MET . 1\\nATOM 350 C CG . MET 45 45 ? A -1.6356266 -6.9260235 -9.091346 1.000 1 A MET . 1\\nATOM 351 S SD . MET 45 45 ? A -3.4208694 -6.5091014 -9.170848 1.000 1 A MET . 1\\nATOM 352 C CE . MET 45 45 ? A -3.3414965 -4.713475 -8.922605 1.000 1 A MET . 1\\nATOM 353 N N . ALA 46 46 ? A 1.5677397 -7.233222 -12.256602 1.000 1 A ALA . 1\\nATOM 354 C CA . ALA 46 46 ? A 2.1044679 -6.900654 -13.5736885 1.000 1 A ALA . 1\\nATOM 355 C C . ALA 46 46 ? A 1.0739179 -6.150226 -14.412439 1.000 1 A ALA . 1\\nATOM 356 C CB . ALA 46 46 ? A 2.5568326 -8.165717 -14.298896 1.000 1 A ALA . 1\\nATOM 357 O O . ALA 46 46 ? A -0.12951136 -6.3900995 -14.28918 1.000 1 A ALA . 1\\nATOM 358 N N . LYS 47 47 ? A 1.4779979 -5.258466 -15.19936 1.000 1 A LYS . 1\\nATOM 359 C CA . LYS 47 47 ? A 0.5905564 -4.4700994 -16.049446 1.000 1 A LYS . 1\\nATOM 360 C C . LYS 47 47 ? A -0.22685128 -5.3683524 -16.973385 1.000 1 A LYS . 1\\nATOM 361 C CB . LYS 47 47 ? A 1.3924252 -3.4617705 -16.873705 1.000 1 A LYS . 1\\nATOM 362 O O . LYS 47 47 ? A -1.3533244 -5.028463 -17.341152 1.000 1 A LYS . 1\\nATOM 363 C CG . LYS 47 47 ? A 1.9789252 -2.3206353 -16.055727 1.000 1 A LYS . 1\\nATOM 364 C CD . LYS 47 47 ? A 2.712108 -1.3191136 -16.938772 1.000 1 A LYS . 1\\nATOM 365 C CE . LYS 47 47 ? A 3.3574939 -0.21322751 -16.114668 1.000 1 A LYS . 1\\nATOM 366 N NZ . LYS 47 47 ? A 4.0740004 0.77380705 -16.97668 1.000 1 A LYS . 1\\nATOM 367 N N . GLY 48 48 ? A 0.29546303 -6.57158 -17.262016 1.000 1 A GLY . 1\\nATOM 368 C CA . GLY 48 48 ? A -0.4175461 -7.506771 -18.117464 1.000 1 A GLY . 1\\nATOM 369 C C . GLY 48 48 ? A -1.5326827 -8.242139 -17.39844 1.000 1 A GLY . 1\\nATOM 370 O O . GLY 48 48 ? A -2.3370388 -8.930893 -18.029589 1.000 1 A GLY . 1\\nATOM 371 N N . HIS 49 49 ? A -1.5870409 -7.9365215 -16.156662 1.000 1 A HIS . 1\\nATOM 372 C CA . HIS 49 49 ? A -2.5613708 -8.675653 -15.36187 1.000 1 A HIS . 1\\nATOM 373 C C . HIS 49 49 ? A -3.6367602 -7.748006 -14.806322 1.000 1 A HIS . 1\\nATOM 374 C CB . HIS 49 49 ? A -1.8673372 -9.418666 -14.218881 1.000 1 A HIS . 1\\nATOM 375 O O . HIS 49 49 ? A -4.5301657 -8.190743 -14.080784 1.000 1 A HIS . 1\\nATOM 376 C CG . HIS 49 49 ? A -0.9727931 -10.525618 -14.678609 1.000 1 A HIS . 1\\nATOM 377 C CD2 . HIS 49 49 ? A -0.78977805 -11.069661 -15.904698 1.000 1 A HIS .\\n1\\nATOM 378 N ND1 . HIS 49 49 ? A -0.13410228 -11.207968 -13.824131 1.000 1 A HIS .\\n1\\nATOM 379 C CE1 . HIS 49 49 ? A 0.5287372 -12.126014 -14.507591 1.000 1 A HIS . 1\\nATOM 380 N NE2 . HIS 49 49 ? A 0.14908254 -12.062932 -15.772346 1.000 1 A HIS .\\n1\\nATOM 381 N N . PHE 50 50 ? A -3.4376101 -6.469409 -15.094534 1.000 1 A PHE . 1\\nATOM 382 C CA . PHE 50 50 ? A -4.4160466 -5.507035 -14.6019945 1.000 1 A PHE . 1\\nATOM 383 C C . PHE 50 50 ? A -5.215215 -4.9096646 -15.753975 1.000 1 A PHE . 1\\nATOM 384 C CB . PHE 50 50 ? A -3.724614 -4.3931856 -13.809525 1.000 1 A PHE . 1\\nATOM 385 O O . PHE 50 50 ? A -4.646579 -4.2899065 -16.655237 1.000 1 A PHE . 1\\nATOM 386 C CG . PHE 50 50 ? A -4.6709857 -3.5421603 -13.00658 1.000 1 A PHE . 1\\nATOM 387 C CD1 . PHE 50 50 ? A -5.265405 -4.0381303 -11.852722 1.000 1 A PHE . 1\\nATOM 388 C CD2 . PHE 50 50 ? A -4.9663076 -2.2452273 -13.406086 1.000 1 A PHE .\\n1\\nATOM 389 C CE1 . PHE 50 50 ? A -6.1418085 -3.2526112 -11.107512 1.000 1 A PHE .\\n1\\nATOM 390 C CE2 . PHE 50 50 ? A -5.8410883 -1.4542689 -12.666601 1.000 1 A PHE .\\n1\\nATOM 391 C CZ . PHE 50 50 ? A -6.4284725 -1.9601842 -11.518274 1.000 1 A PHE . 1\\nATOM 392 N N . GLY 51 51 ? A -6.480266 -5.135469 -15.819645 1.000 1 A GLY . 1\\nATOM 393 C CA . GLY 51 51 ? A -7.389891 -4.6234984 -16.832178 1.000 1 A GLY . 1\\nATOM 394 C C . GLY 51 51 ? A -8.015558 -3.2940373 -16.454865 1.000 1 A GLY . 1\\nATOM 395 O O . GLY 51 51 ? A -8.362735 -3.0729103 -15.292844 1.000 1 A GLY . 1\\nATOM 396 N N . ILE 52 52 ? A -8.015915 -2.2405496 -17.26165 1.000 1 A ILE . 1\\nATOM 397 C CA . ILE 52 52 ? A -8.676369 -0.953224 -17.075178 1.000 1 A ILE . 1\\nATOM 398 C C . ILE 52 52 ? A -9.659703 -0.7074945 -18.217281 1.000 1 A ILE . 1\\nATOM 399 C CB . ILE 52 52 ? A -7.6521482 0.20071965 -16.992104 1.000 1 A ILE . 1\\nATOM 400 O O . ILE 52 52 ? A -9.261889 -0.634236 -19.382336 1.000 1 A ILE . 1\\nATOM 401 C CG1 . ILE 52 52 ? A -6.6568527 -0.049631447 -15.853316 1.000 1 A ILE\\n. 1\\nATOM 402 C CG2 . ILE 52 52 ? A -8.365384 1.5437984 -16.810825 1.000 1 A ILE . 1\\nATOM 403 C CD1 . ILE 52 52 ? A -5.4676366 0.901052 -15.850403 1.000 1 A ILE . 1\\nATOM 404 N N . GLY 53 53 ? A -10.8801 -0.83461916 -17.843534 1.000 1 A GLY . 1\\nATOM 405 C CA . GLY 53 53 ? A -11.902782 -0.54425246 -18.835785 1.000 1 A GLY .\\n1\\nATOM 406 C C . GLY 53 53 ? A -12.007536 -1.6069312 -19.913296 1.000 1 A GLY . 1\\nATOM 407 O O . GLY 53 53 ? A -12.323541 -1.3015518 -21.065079 1.000 1 A GLY . 1\\nATOM 408 N N . GLY 54 54 ? A -11.705493 -2.9100628 -19.563602 1.000 1 A GLY . 1\\nATOM 409 C CA . GLY 54 54 ? A -11.775839 -3.9709342 -20.555752 1.000 1 A GLY . 1\\nATOM 410 C C . GLY 54 54 ? A -10.476659 -4.165503 -21.314413 1.000 1 A GLY . 1\\nATOM 411 O O . GLY 54 54 ? A -10.405059 -4.983754 -22.233685 1.000 1 A GLY . 1\\nATOM 412 N N . GLU 55 55 ? A -9.504599 -3.3767915 -21.07388 1.000 1 A GLU . 1\\nATOM 413 C CA . GLU 55 55 ? A -8.193138 -3.4672766 -21.708694 1.000 1 A GLU . 1\\nATOM 414 C C . GLU 55 55 ? A -7.0910172 -3.6678913 -20.67247 1.000 1 A GLU . 1\\nATOM 415 C CB . GLU 55 55 ? A -7.910782 -2.2138393 -22.540955 1.000 1 A GLU . 1\\nATOM 416 O O . GLU 55 55 ? A -7.23081 -3.2502613 -19.521051 1.000 1 A GLU . 1\\nATOM 417 C CG . GLU 55 55 ? A -8.879576 -2.012147 -23.69709 1.000 1 A GLU . 1\\nATOM 418 C CD . GLU 55 55 ? A -8.555219 -0.79324317 -24.546017 1.000 1 A GLU . 1\\nATOM 419 O OE1 . GLU 55 55 ? A -9.229702 -0.5753948 -25.578049 1.000 1 A GLU . 1\\nATOM 420 O OE2 . GLU 55 55 ? A -7.618332 -0.050593376 -24.17662 1.000 1 A GLU .\\n1\\nATOM 421 N N . LEU 56 56 ? A -6.009465 -4.3258677 -21.076502 1.000 1 A LEU . 1\\nATOM 422 C CA . LEU 56 56 ? A -4.8695626 -4.49127 -20.181273 1.000 1 A LEU . 1\\nATOM 423 C C . LEU 56 56 ? A -4.2182755 -3.1464872 -19.876291 1.000 1 A LEU . 1\\nATOM 424 C CB . LEU 56 56 ? A -3.8393698 -5.442933 -20.795156 1.000 1 A LEU . 1\\nATOM 425 O O . LEU 56 56 ? A -4.1587467 -2.2702508 -20.74189 1.000 1 A LEU . 1\\nATOM 426 C CG . LEU 56 56 ? A -4.283849 -6.8944755 -20.981684 1.000 1 A LEU . 1\\nATOM 427 C CD1 . LEU 56 56 ? A -3.247714 -7.6660624 -21.792166 1.000 1 A LEU . 1\\nATOM 428 C CD2 . LEU 56 56 ? A -4.517004 -7.5605183 -19.629896 1.000 1 A LEU . 1\\nATOM 429 N N . ALA 57 57 ? A -3.8739274 -3.06536 -18.621279 1.000 1 A ALA . 1\\nATOM 430 C CA . ALA 57 57 ? A -3.210502 -1.8277936 -18.21917 1.000 1 A ALA . 1\\nATOM 431 C C . ALA 57 57 ? A -1.9262635 -1.610531 -19.014284 1.000 1 A ALA . 1\\nATOM 432 C CB . ALA 57 57 ? A -2.9091625 -1.8475634 -16.722591 1.000 1 A ALA . 1\\nATOM 433 O O . ALA 57 57 ? A -1.498257 -0.47146964 -19.215092 1.000 1 A ALA . 1\\nATOM 434 N N . SER 58 58 ? A -1.3438755 -2.6295633 -19.62074 1.000 1 A SER . 1\\nATOM 435 C CA . SER 58 58 ? A -0.13604765 -2.530509 -20.433626 1.000 1 A SER . 1\\nATOM 436 C C . SER 58 58 ? A -0.43582666 -1.9154966 -21.796534 1.000 1 A SER . 1\\nATOM 437 C CB . SER 58 58 ? A 0.50216836 -3.908177 -20.616072 1.000 1 A SER . 1\\nATOM 438 O O . SER 58 58 ? A 0.4791841 -1.5014699 -22.511417 1.000 1 A SER . 1\\nATOM 439 O OG . SER 58 58 ? A -0.41192687 -4.8106813 -21.214863 1.000 1 A SER .\\n1\\nATOM 440 N N . LYS 59 59 ? A -1.6455717 -1.7739487 -22.337309 1.000 1 A LYS . 1\\nATOM 441 C CA . LYS 59 59 ? A -1.9954802 -1.2428821 -23.65156 1.000 1 A LYS . 1\\nATOM 442 C C . LYS 59 59 ? A -2.0733948 0.2809106 -23.625826 1.000 1 A LYS . 1\\nATOM 443 C CB . LYS 59 59 ? A -3.325165 -1.8275448 -24.130342 1.000 1 A LYS . 1\\nATOM 444 O O . LYS 59 59 ? A -1.5624666 0.949162 -24.526999 1.000 1 A LYS . 1\\nATOM 445 C CG . LYS 59 59 ? A -3.239612 -3.2819624 -24.56922 1.000 1 A LYS . 1\\nATOM 446 C CD . LYS 59 59 ? A -4.5654054 -3.7739024 -25.135468 1.000 1 A LYS . 1\\nATOM 447 C CE . LYS 59 59 ? A -4.494546 -5.2423415 -25.532106 1.000 1 A LYS . 1\\nATOM 448 N NZ . LYS 59 59 ? A -5.7962923 -5.7327733 -26.075815 1.000 1 A LYS . 1\\n#\\n#\\nloop_\\n_atom_type.symbol\\nC\\nN\\nO\\nS\\n#\\n\",\"mmcif\");\n",
       "\tviewer_17251151395716748.addModel(\"2OP8\");\n",
       "\tviewer_17251151395716748.setStyle({\"chain\": \"A\"},{\"cartoon\": {\"color\": \"spectrum\"}});\n",
       "\tviewer_17251151395716748.zoomTo();\n",
       "viewer_17251151395716748.render();\n",
       "})\n",
       "});\n",
       "</script>"
      ]
     },
     "metadata": {},
     "output_type": "display_data"
    },
    {
     "data": {
      "text/plain": [
       "<py3Dmol.view at 0x122ef71c0>"
      ]
     },
     "execution_count": 13,
     "metadata": {},
     "output_type": "execute_result"
    }
   ],
   "source": [
    "import py3Dmol\n",
    "\n",
    "view = py3Dmol.view()\n",
    "view = py3Dmol.view(query='2OP8')\n",
    "\n",
    "with open('model/prediction.mmcif', 'r') as f:\n",
    "    data = f.read()\n",
    "view.addModel(data, 'mmcif')\n",
    "view.addModel('2OP8')\n",
    "view.setStyle({'chain': 'A'}, {'cartoon': {'color':'spectrum'}})\n",
    "view.zoomTo()\n",
    "view"
   ]
  },
  {
   "cell_type": "markdown",
   "metadata": {},
   "source": [
    "If you are working in Colab, you can run the following cell to download the resulting mmcif file. Open the file in a protein view like ChimeraX on your local machine. Load the crystal structure as well. You can use the 'Tools -> Structure Analysis -> Matchmaker' to align your prediction with the template. The root mean square deviation (the error) for the alignment should be really small."
   ]
  },
  {
   "cell_type": "code",
   "execution_count": 14,
   "metadata": {},
   "outputs": [],
   "source": [
    "# If you're in Colab, you can run this cell to download your prediction\n",
    "if IN_COLAB:\n",
    "    from google.colab import files # type: ignore\n",
    "    files.download('model/prediction.mmcif')"
   ]
  }
 ],
 "metadata": {
  "kernelspec": {
   "display_name": "alphafold",
   "language": "python",
   "name": "python3"
  },
  "language_info": {
   "codemirror_mode": {
    "name": "ipython",
    "version": 3
   },
   "file_extension": ".py",
   "mimetype": "text/x-python",
   "name": "python",
   "nbconvert_exporter": "python",
   "pygments_lexer": "ipython3",
   "version": "3.9.19"
  }
 },
 "nbformat": 4,
 "nbformat_minor": 2
}
