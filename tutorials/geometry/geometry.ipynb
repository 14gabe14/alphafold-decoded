{
 "cells": [
  {
   "cell_type": "markdown",
   "metadata": {},
   "source": [
    "## Basic Setup\n",
    "\n",
    "Run the cells below for the basic setup of this notebook."
   ]
  },
  {
   "cell_type": "code",
   "execution_count": 4,
   "metadata": {},
   "outputs": [],
   "source": [
    "try:\n",
    "    from google.colab import drive\n",
    "    IN_COLAB = True\n",
    "except:\n",
    "    IN_COLAB = False\n",
    "    print('No colab environment, assuming local setup.')\n",
    "\n",
    "if IN_COLAB:\n",
    "    drive.mount('/content/drive')\n",
    "\n",
    "    # TODO: Enter the foldername in your Drive where you have saved the unzipped\n",
    "    # turorials folder, e.g. 'alphafold-decoded/tutorials'\n",
    "    FOLDERNAME = None\n",
    "    assert FOLDERNAME is not None, \"[!] Enter the foldername.\"\n",
    "\n",
    "    # Now that we've mounted your Drive, this ensures that\n",
    "    # the Python interpreter of the Colab VM can load\n",
    "    # python files from within it.\n",
    "    import sys\n",
    "    sys.path.append('/content/drive/My Drive/{}'.format(FOLDERNAME))\n",
    "    %cd /content/drive/My\\ Drive/$FOLDERNAME\n",
    "\n",
    "    print('Connected COLAB to Google Drive.')\n",
    "\n",
    "import os\n",
    "    \n",
    "base_folder = 'geometry'\n",
    "control_folder = f'{base_folder}/control_values'\n",
    "\n",
    "assert os.path.isdir(control_folder), 'Folder \"control_values\" not found, make sure that FOLDERNAME is set correctly.' if IN_COLAB else 'Folder \"control_values\" not found, make sure that your root folder is set correctly.'"
   ]
  },
  {
   "cell_type": "code",
   "execution_count": 5,
   "metadata": {},
   "outputs": [],
   "source": [
    "%load_ext autoreload\n",
    "%autoreload 2\n",
    "%matplotlib inline"
   ]
  },
  {
   "cell_type": "code",
   "execution_count": 6,
   "metadata": {},
   "outputs": [],
   "source": [
    "from geometry.control_values.bunny_renderer import BunnyRenderer\n",
    "from matplotlib import pyplot as plt\n",
    "import ipywidgets\n",
    "import torch\n",
    "import math\n",
    "import os"
   ]
  },
  {
   "cell_type": "code",
   "execution_count": null,
   "metadata": {},
   "outputs": [],
   "source": [
    "control_folder = f'{base_folder}/control_values'\n",
    "assert os.path.isdir(control_folder)"
   ]
  },
  {
   "cell_type": "code",
   "execution_count": null,
   "metadata": {},
   "outputs": [],
   "source": [
    "torch.set_grad_enabled(False)"
   ]
  },
  {
   "cell_type": "markdown",
   "metadata": {},
   "source": [
    "# Geometry\n",
    "\n",
    "Three-dimensional geometry is an undeniably fascinating field, and yes, there's a bit of math involved. Luckily, it's the kind of math that opens up new ways of understanding the world. By the time you finish this notebook, you'll have done more than just implement key AlphaFold methods – you'll have a solid grasp of 3D movement, rotation matrices, quaternions, and homogenous coordinates. "
   ]
  },
  {
   "cell_type": "markdown",
   "metadata": {},
   "source": [
    "## Getting Started\n",
    "\n",
    "Let's take a look at our test object in this notebook."
   ]
  },
  {
   "cell_type": "code",
   "execution_count": null,
   "metadata": {},
   "outputs": [],
   "source": [
    "fig = plt.figure(figsize=(6,6))\n",
    "ax = fig.add_axes([0,0,1,1], xlim=[-1,+1], ylim=[-1,+1], aspect=1, frameon=False)\n",
    "\n",
    "renderer = BunnyRenderer()\n",
    "V = renderer.load_bunny(f'{control_folder}/bunny.obj')\n",
    "renderer.render_bunny(V, ax)"
   ]
  },
  {
   "cell_type": "markdown",
   "metadata": {},
   "source": [
    "When loading the bunny, the renderer returns the vertices of the mesh. These can be manipulated before they are passed back to the render method. Try moving the rabbit around by adding an offset like torch.tensor([0.5, 0, 0]) to them. In which directions are the x, y, and z axes of the coordinate frame pointing?"
   ]
  },
  {
   "cell_type": "code",
   "execution_count": null,
   "metadata": {},
   "outputs": [],
   "source": [
    "print(V.shape)"
   ]
  },
  {
   "cell_type": "code",
   "execution_count": null,
   "metadata": {},
   "outputs": [],
   "source": [
    "fig = plt.figure(figsize=(6,6))\n",
    "ax = fig.add_axes([0,0,1,1], xlim=[-1,+1], ylim=[-1,+1], aspect=1, frameon=False)\n",
    "ax.clear()\n",
    "\n",
    "renderer = BunnyRenderer()\n",
    "V = renderer.load_bunny(f'{control_folder}/bunny.obj')\n",
    "\n",
    "\n",
    "##########################################################################\n",
    "# TODO: Move the bunny around by adding an offset to the vertices.       # \n",
    "#  In which directions are the x, y, and z axes pointing?                #\n",
    "##########################################################################\n",
    "\n",
    "# Replace \"pass\" statement with your code\n",
    "pass\n",
    "\n",
    "##########################################################################\n",
    "#               END OF YOUR CODE                                         #\n",
    "##########################################################################\n",
    "\n",
    "renderer.render_bunny(V, ax)\n",
    "ax.set_xlim((-1, 1))\n",
    "ax.set_ylim((-1, 1))\n"
   ]
  },
  {
   "cell_type": "markdown",
   "metadata": {},
   "source": [
    "Point out the thumb, index and middle finger of your right hand, such that they are all orthogonal to each other. You will probably find there is only one way you can do this. Twist your hand so that your thumb is pointing in the direction of the x-axis and your index finger is pointing in the direction of the y-axis. Your middle finger should now align with the z-axis. Theoretically, there are two possible directions for the z-axis (the direction your middle finger is pointing, or the opposite ones) and the vectors would still be orthogonal. But it is convention to choose the axes in the way done here. \n",
    "\n",
    "This is actually called a <b>right-handed coordinate system</b>.\n",
    "\n",
    "Given the first two vectors, the third one is already defined, as you can see from the direction your middle finger is pointing after orienting thumb and index finger to your chosen orientation. As it is fully determined, there is also a mathematical formula to compute it, and it is called the cross-product. The cross-product of two orthogonal vectors is the vector that is orthogonal to both in a right-handed fashion. Its magnitude is the product of the magnitudes of the input vectors, so for unit vectors, it also is a unit vector."
   ]
  },
  {
   "cell_type": "markdown",
   "metadata": {},
   "source": [
    "## Rotation Matrices\n",
    "\n",
    "Moving the bunny around is fun, but for a more serious analysis, we will have to rotate him as well. The most straight-forward method to describe 3D rotations is by rotation matrices. A rotation matrix is just any 3x3 matrix, where the three columns are orthogonal and unit vectors (orthonormal) and oriented in a right-handed fashion. The simplest rotation matrix is just the identity matrix, with 1 on the diagonal and 0s everywhere else. Try coming up with a set of three such vectors and combine them in a matrix, then multiply it against the vertices to rotate the bunny."
   ]
  },
  {
   "cell_type": "code",
   "execution_count": null,
   "metadata": {},
   "outputs": [],
   "source": [
    "fig = plt.figure(figsize=(6,6))\n",
    "ax = fig.add_axes([0,0,1,1], xlim=[-1,+1], ylim=[-1,+1], aspect=1, frameon=False)\n",
    "\n",
    "renderer = BunnyRenderer()\n",
    "V = renderer.load_bunny(f'{control_folder}/bunny.obj')\n",
    "\n",
    "rot_mat = None\n",
    "warped_V = None\n",
    "\n",
    "##########################################################################\n",
    "# TODO: Create a rotation matrix by choosing three orthonormal vectors,  # \n",
    "#  that follow a right-handed orientation. You can achieve that by       #\n",
    "#  finding two orthonormal vectors and then compute the third with       #\n",
    "#  torch.linalg.cross as there cross product. Use torch.stack to stack   #\n",
    "#  them as columns in a matrix. Then, use batched matrix multiplication  #\n",
    "#  to multiply the matrix from the left against V to rotate the bunny.   #\n",
    "#  You can use torch.einsum for this.                                    #\n",
    "##########################################################################\n",
    "\n",
    "# Replace \"pass\" statement with your code\n",
    "pass\n",
    "\n",
    "##########################################################################\n",
    "#               END OF YOUR CODE                                         #\n",
    "##########################################################################\n",
    "\n",
    "assert torch.allclose(torch.eye(3), rot_mat@rot_mat.T), 'Columns are not orthonormal.'\n",
    "assert abs(torch.linalg.det(rot_mat)-1) < 1e-3, 'Columns are not right-handed.'\n",
    "assert torch.allclose(V, warped_V@rot_mat), 'rot_mat not multiplicated against V correctly.'\n",
    "\n",
    "renderer.render_bunny(warped_V, ax)\n",
    "ax.set_xlim((-1, 1))\n",
    "ax.set_ylim((-1, 1))"
   ]
  },
  {
   "cell_type": "markdown",
   "metadata": {},
   "source": [
    "Take a look where the scut of the rabbit is facing. It was previously oriented to (1,0,0), the x-axis. It should now point in the direction you chose as the first column of the rotation matrix. The same holds for the top of the bunny. It was previously looking at (0, 1, 0) and should now be oriented towards the second column. Check this against the rotation matrix you chose.\n",
    "\n",
    "This is exactly what a rotation matrix does: The columns, the axes of the new frame, define where the former base axes x, y and z are rotated towards, and all other parts follow accordingly."
   ]
  },
  {
   "cell_type": "markdown",
   "metadata": {},
   "source": [
    "## Quaternions"
   ]
  },
  {
   "cell_type": "code",
   "execution_count": null,
   "metadata": {},
   "outputs": [],
   "source": [
    "from geometry import create_quaternion, quat_vector_mul, quat_mul\n",
    "import matplotlib.animation as animation\n",
    "\n",
    "fig = plt.figure(figsize=(6,6))\n",
    "ax = fig.add_axes([0,0,1,1], xlim=[-1,+1], ylim=[-1,+1], aspect=1, frameon=False)\n",
    "\n",
    "renderer = BunnyRenderer()\n",
    "V = renderer.load_bunny(f'{control_folder}/bunny.obj')\n",
    "\n",
    "q11 = create_quaternion(torch.tensor(math.pi/6), torch.tensor([0.0, 1.0, 0.0]))\n",
    "q12 = create_quaternion(torch.tensor(math.pi/6), torch.tensor([1.0, 0.0, 0.0]))\n",
    "quat = quat_mul(q12, q11)\n",
    "\n",
    "q21 = create_quaternion(torch.tensor(math.pi/6), torch.tensor([0.0, -1.0, 0.0]))\n",
    "q22 = create_quaternion(torch.tensor(math.pi/6), torch.tensor([-1.0, 0.0, 0.0]))\n",
    "q2 = quat_mul(q22, q21)\n",
    "\n",
    "# @ipywidgets.interact(x=(0.0, 1.0, 0.1))\n",
    "def parametric_render(x):\n",
    "    q = (1-x)*quat+x*q2\n",
    "    q = q / torch.linalg.vector_norm(q, keepdim=True)\n",
    "    V_warped = quat_vector_mul(q, V)\n",
    "    # renderer.reset()\n",
    "    renderer.render_bunny(V_warped, ax)\n",
    "    ax.set_xlim((-1, 1))\n",
    "    ax.set_ylim((-1, 1))\n",
    "\n",
    "def animate(frame_number, total_frames=50):\n",
    "    base = torch.cat((torch.linspace(0, 1, total_frames//2+1), torch.linspace(1, 0, total_frames//2+1)[1:-1]), dim=0)\n",
    "    x = base[frame_number]\n",
    "    # x = 3*x**2-2*x**3\n",
    "    parametric_render(x)\n",
    "\n",
    "ani = animation.FuncAnimation(fig, animate, frames=50, interval=40)\n",
    "\n",
    "ani.save('my_animation.mp4', writer='ffmpeg')\n",
    "plt.close()\n",
    "\n",
    "\n",
    "    "
   ]
  },
  {
   "cell_type": "code",
   "execution_count": null,
   "metadata": {},
   "outputs": [],
   "source": [
    "from IPython.display import Video\n",
    "\n",
    "Video('my_animation.mp4', embed=True, html_attributes=\"loop autoplay controls\")\n"
   ]
  },
  {
   "cell_type": "code",
   "execution_count": null,
   "metadata": {},
   "outputs": [],
   "source": [
    "\n",
    "q11 = create_quaternion(torch.tensor(math.pi/12), torch.tensor([0.0, 1.0, 0.0]))\n",
    "q12 = create_quaternion(torch.tensor(math.pi/12), torch.tensor([1.0, 0.0, 0.0]))\n",
    "quat = quat_mul(q12, q11)\n",
    "\n",
    "a, b, c, d = torch.unbind(quat, dim=-1)\n",
    "R = [\n",
    "    [a**2+b**2-c**2-d**2, 2*b*c-2*a*d, 2*b*d+2*a*c],\n",
    "    [2*b*c+2*a*d, a**2-b**2+c**2-d**2, 2*c*d-2*a*b],\n",
    "    [2*b*d-2*a*c, 2*c*d+2*a*b, a**2-b**2-c**2+d**2]\n",
    "]\n",
    "R = [torch.stack(vals, dim=-1) for vals in R]\n",
    "R = torch.stack(R, dim=-2)\n",
    "print(R)\n",
    "R_oth = quat_vector_mul(quat, torch.eye(3))\n",
    "print(R_oth)"
   ]
  },
  {
   "cell_type": "markdown",
   "metadata": {},
   "source": [
    "## Homogenous Coordinates\n",
    "\n",
    "Homogenous coordinates follow a simple idea: Say you have a rotation matrix $R$ and a translation vector $t$. To warp a vector $x$, we can just compute $y = R\\cdot x + t$. This seems simple enough, but consider the following 4x4 matrix and vector:\n",
    "\n",
    "$$ T = \\left(\\begin{array}{c|c} R & t \\\\\\hline 0\\;0\\;0 & 1\\end{array}\\right), \\; \\tilde{x} = \\begin{pmatrix}x\\\\\\hline 1 \\end{pmatrix}$$\n",
    "\n",
    "You can check that the following holds:\n",
    "$$\\tilde{y} = T \\cdot \\tilde{x}, \\; \\text{ where } \\tilde{y} = \\begin{pmatrix}y \\\\\\hline 1\\end{pmatrix}$$\n",
    "\n",
    "This way, just by assembling R and t together in a matrix and padding with (0,0,0,1), we could compute the affine linear transformation $y = R\\cdot x + t$ with just a linear matrix multiplication. It is a simple trick that is often used to describe motions (rotations and translations) jointly."
   ]
  },
  {
   "cell_type": "markdown",
   "metadata": {},
   "source": []
  }
 ],
 "metadata": {},
 "nbformat": 4,
 "nbformat_minor": 2
}
